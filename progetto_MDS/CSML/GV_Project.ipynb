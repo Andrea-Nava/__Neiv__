{
 "cells": [
  {
   "cell_type": "markdown",
   "id": "5312071f-1fa1-4722-9fa7-99aa10cb0dce",
   "metadata": {},
   "source": [
    "# PROGETTO MASTER DATA SCIENCE\n",
    "## COMPUTATIONAL STATISTICS & MACHINE LEARNING\n",
    "## ANDREA NAVA - Marzo 2022\n",
    "***"
   ]
  },
  {
   "cell_type": "markdown",
   "id": "b7abe39a-9abb-461a-b5b2-992d5f20313f",
   "metadata": {
    "tags": []
   },
   "source": [
    "## SOMMARIO\n",
    "1. Introduzione\n",
    "2. Statistiche descrittive\n",
    "3. Esplorazione: il test D di Somers\n",
    "4. Modelli di training: Regressione Logistica\n",
    "5. Preparazione dati per il clustering\n",
    "6. Modelli di traning: K-Means\n",
    "7. Modelli di training: Clustering Agglomerativo\n",
    "8. Conclusioni\n",
    "##"
   ]
  },
  {
   "cell_type": "markdown",
   "id": "7dd8a010-34d3-4b1b-a387-233ed9153e32",
   "metadata": {
    "tags": []
   },
   "source": [
    "***\n",
    "### 1. Introduzione"
   ]
  },
  {
   "cell_type": "markdown",
   "id": "bf0fa6f3-9162-4832-9823-0d1ff58f8041",
   "metadata": {},
   "source": [
    "Il **Global Village** è una delle principali attrazioni di Dubai (UAE). Si tratta di un parco a tema, focalizzato sul multiculturalismo. Unico nel suoa genere, il parco è diviso in padiglioni nei quali sono presenti ristoranti e mercati relativi a un differente Paese o cultura. Oltre ai padilgioni, sono presenti aree dedicate all'intrattenimento, come palchi per concerti, spettacoli e attrazioni.</br>\n",
    "Il parco, attivo da ottobre ad aprile, è frequentato da circa 7 milioni di visitatori a stagione, facendo di esso il **quarto parco tematico più visitato al mondo**, dopo i parchi Disney di Orlando, Anaheim e Tokyo<a href=\"https://gulfnews.com/uae/new-record-dubai-global-village-is-now-amongst-the-top-four-most-visited-entertainment-destinations-in-the-world-1.69181995\" target=\"_blank\"> (1)</a>.\n",
    "\n",
    "<center><img src=\"Global-Village-2021.jpg\"style=\"width: 600px;\"/>></center>\n"
   ]
  },
  {
   "cell_type": "markdown",
   "id": "ebe74546-ebe4-40f7-a3dc-7c9d5160afc7",
   "metadata": {},
   "source": [
    "La direzione del Global Village commissiona su base mensile una survey destinata ai visitatori di cui si conoscono i dati, ovvero coloro che hanno acquistato il biglietto online o che hanno utilizzato il WiFi del parco. Scopo della survey è quello di valutare la soddisisfazione dei visitatori sia a livello complessivo che rispetto ai vari aspetti della loro esperienza, nonché di raccogliere informazioni sui comportamenti e attutudini.\n",
    "\n",
    "Obiettivo del presente progetto è eseguire un'esplorazione dei dati con tecniche di statistica descrittiva, e di sperimentare quindi alcuni fra gli algoritmi di clusterizzazione dei visitatori studiati durante il corso."
   ]
  },
  {
   "cell_type": "markdown",
   "id": "a1225c4a-2782-42a0-936c-d40445a6af36",
   "metadata": {
    "tags": []
   },
   "source": [
    "***\n",
    "### 2. Statistiche descrittive"
   ]
  },
  {
   "cell_type": "markdown",
   "id": "4d6b5cfd-28c6-4bce-9dc4-f1c54b965b2b",
   "metadata": {},
   "source": [
    "Per prima cosa, si vuole conoscere come è fatto il dataset a disposizione, relativo alle visite nei mesi di **gennaio e febbraio 2022**. </br>\n",
    "Comincio con l'importare le librerie necessarie."
   ]
  },
  {
   "cell_type": "code",
   "execution_count": 1,
   "id": "a585f2ac-4130-4589-9948-be6493c663a9",
   "metadata": {},
   "outputs": [],
   "source": [
    "import pandas as pd\n",
    "import numpy as np\n",
    "import matplotlib.pyplot as plt\n",
    "import seaborn as sns\n",
    "\n",
    "# Per la sez. 3 Esplorazione: il test D di Somers\n",
    "from scipy.stats import somersd\n",
    "\n",
    "# Per la sez. 4. Modelli di training: Regressione Logistica\n",
    "from sklearn.model_selection import train_test_split, cross_val_score, cross_val_predict\n",
    "from sklearn.linear_model import LogisticRegression\n",
    "from sklearn.metrics import classification_report, precision_recall_curve, precision_score, recall_score, f1_score\n",
    "\n",
    "# Per la sez. 5 Preparazione dati per il clustering\n",
    "from sklearn.decomposition import PCA\n",
    "\n",
    "# Per la sez. 6 Modelli di traning: K-Means\n",
    "from sklearn.cluster import KMeans, AgglomerativeClustering, DBSCAN\n",
    "from sklearn.metrics import silhouette_score, silhouette_samples, normalized_mutual_info_score\n",
    "import matplotlib as mp\n",
    "import collections\n",
    "\n",
    "# Per la sez. 7\n",
    "import scipy.cluster.hierarchy as hier"
   ]
  },
  {
   "cell_type": "markdown",
   "id": "07d6ecdc-3787-4d32-a1bf-eec3dbfd28fe",
   "metadata": {},
   "source": [
    "Apro il file contenente i dati. Per maggior comodità ho impostato il file in tre fogli:</br>\n",
    "* un foglio contenente tutti i dati (\"db\")\n",
    "* un foglio contenente solo i valori delle soddisfazioni (\"db_sat\")\n",
    "* un foglio contenente solo i dati di spesa (\"db_spend\")"
   ]
  },
  {
   "cell_type": "code",
   "execution_count": 2,
   "id": "c90381f5-b242-4fb7-a36d-397ceff30dec",
   "metadata": {},
   "outputs": [],
   "source": [
    "df_all = pd.read_excel ('GV_Season_26_JAN_FEB.xlsx', sheet_name='db', index_col=0)\n",
    "df_sat = pd.read_excel ('GV_Season_26_JAN_FEB.xlsx', sheet_name='db_sat', index_col=0)\n",
    "df_spend = pd.read_excel ('GV_Season_26_JAN_FEB.xlsx', sheet_name='db_spend', index_col=0)"
   ]
  },
  {
   "cell_type": "markdown",
   "id": "8c4ce97d-a576-41a1-80c1-75dcab664e4d",
   "metadata": {},
   "source": [
    "Vediamo come è fatto il dataset totale:"
   ]
  },
  {
   "cell_type": "code",
   "execution_count": 3,
   "id": "c24138f6-74e8-4bb5-b713-1298080967c1",
   "metadata": {},
   "outputs": [
    {
     "data": {
      "text/plain": [
       "(3510, 78)"
      ]
     },
     "execution_count": 3,
     "metadata": {},
     "output_type": "execute_result"
    }
   ],
   "source": [
    "df_all.shape"
   ]
  },
  {
   "cell_type": "markdown",
   "id": "70c16803-e359-4d20-aefc-7e843b306bb1",
   "metadata": {},
   "source": [
    "Cominciamo a esplorare:"
   ]
  },
  {
   "cell_type": "code",
   "execution_count": 4,
   "id": "7f20c9f2-e7c1-421c-bcc9-9febd6a7d39b",
   "metadata": {},
   "outputs": [],
   "source": [
    "def hist_total_response_by_gender():\n",
    "    plt.figure(figsize=(6, 6))\n",
    "    sns.countplot(x='Gender', data=df_all)\n",
    "def hist_total_response_by_age():\n",
    "    plt.figure(figsize=(20, 6))\n",
    "    sns.countplot(x='Age', data=df_all)\n",
    "def hist_total_response_by_nationality():\n",
    "    plt.figure(figsize=(20, 6))\n",
    "    sns.countplot(x='Nationality', data=df_all, order=pd.value_counts(df_all['Nationality']).iloc[:10].index)"
   ]
  },
  {
   "cell_type": "code",
   "execution_count": 5,
   "id": "398bb659-4f23-4ba8-8bcc-d41243f5d733",
   "metadata": {},
   "outputs": [],
   "source": [
    "def hist_total_response_by_month():\n",
    "    plt.figure(figsize=(6, 6))\n",
    "    sns.countplot(x='Month', data=df_all, order=ord_month)\n",
    "    plt.show()\n",
    "def hist_total_response_by_week():\n",
    "    plt.figure(figsize=(20, 6))\n",
    "    sns.countplot(x='Week', data=df_all, order=ord_week)\n",
    "    plt.show()"
   ]
  },
  {
   "cell_type": "code",
   "execution_count": 6,
   "id": "3fda8ace-51db-4b0f-8cb3-e1469c1987be",
   "metadata": {},
   "outputs": [],
   "source": [
    "def hist_total_response_by_ovexp():\n",
    "    plt.figure(figsize=(6, 6))\n",
    "    sns.countplot(x='15. Taking everything into account, how would you rate your overall experience?', data=df_all, palette=\"RdYlGn\")\n",
    "    plt.show()"
   ]
  },
  {
   "cell_type": "code",
   "execution_count": 7,
   "id": "a84a1a11-92c4-460c-8f75-6da937b433a0",
   "metadata": {
    "tags": []
   },
   "outputs": [
    {
     "data": {
      "image/png": "[encoded data removed]",
      "text/plain": [
       "<Figure size 432x432 with 1 Axes>"
      ]
     },
     "metadata": {
      "needs_background": "light"
     },
     "output_type": "display_data"
    },
    {
     "data": {
      "image/png": "[encoded data removed]",
      "text/plain": [
       "<Figure size 1440x432 with 1 Axes>"
      ]
     },
     "metadata": {
      "needs_background": "light"
     },
     "output_type": "display_data"
    },
    {
     "data": {
      "image/png": "[encoded data removed]",
      "text/plain": [
       "<Figure size 1440x432 with 1 Axes>"
      ]
     },
     "metadata": {
      "needs_background": "light"
     },
     "output_type": "display_data"
    },
    {
     "data": {
      "image/png": "[encoded data removed]",
      "text/plain": [
       "<Figure size 432x432 with 1 Axes>"
      ]
     },
     "metadata": {
      "needs_background": "light"
     },
     "output_type": "display_data"
    }
   ],
   "source": [
    "hist_total_response_by_gender()\n",
    "hist_total_response_by_age()\n",
    "hist_total_response_by_nationality()\n",
    "hist_total_response_by_ovexp()"
   ]
  },
  {
   "cell_type": "code",
   "execution_count": 8,
   "id": "513b4ea3-45af-4766-ad8c-031965a86b1e",
   "metadata": {},
   "outputs": [],
   "source": [
    "ord_week = sorted(list(set(df_all[\"Week\"])))\n",
    "ord_month = ['January', 'February']"
   ]
  },
  {
   "cell_type": "code",
   "execution_count": 9,
   "id": "0f6597ad-9ec4-40d8-8ad6-4b1557b5a429",
   "metadata": {},
   "outputs": [
    {
     "data": {
      "image/png": "[encoded data removed]",
      "text/plain": [
       "<Figure size 432x432 with 1 Axes>"
      ]
     },
     "metadata": {
      "needs_background": "light"
     },
     "output_type": "display_data"
    },
    {
     "data": {
      "image/png": "[encoded data removed]",
      "text/plain": [
       "<Figure size 1440x432 with 1 Axes>"
      ]
     },
     "metadata": {
      "needs_background": "light"
     },
     "output_type": "display_data"
    }
   ],
   "source": [
    "hist_total_response_by_month()\n",
    "hist_total_response_by_week()"
   ]
  },
  {
   "cell_type": "markdown",
   "id": "117e56a2-d797-4adb-b88d-aa3278a4fddf",
   "metadata": {},
   "source": [
    "***\n",
    "### 3. Esplorazione: il test D di Somers"
   ]
  },
  {
   "cell_type": "markdown",
   "id": "a1634df9-4fc4-4f10-80ea-62ce3f858d0c",
   "metadata": {},
   "source": [
    "La **D di Somers** è una misura di associazione ordinale tra due possibili variabili casuali dipendenti X e Y.</br>\n",
    "La D di Somers assume valori compresi tra -1 (quando tutte le coppie di variabili sono in disaccordo) e +1 (quando tutte le coppie di variabili concordano) <a href=\"https://scipy.github.io/devdocs/reference/generated/scipy.stats.somersd.html\" target=\"_blank\"> (2)</a>.</br>\n",
    "In questo caso, lo scopo dell'analisi è testare **quanto l'NPS (variabile dipendente) sia influenzato dalla soddisfazione nei confronti degli elementi** costituenti l'esperienza."
   ]
  },
  {
   "cell_type": "markdown",
   "id": "b72c1e9e-3787-4302-881f-5dd09dbcecb2",
   "metadata": {
    "tags": []
   },
   "source": [
    "Per questa analisi utilizzo il foglio contenente solo i dati relativi alle soddisfazioni per i vari aspetti dell'esperienza:</br>\n",
    "* Net Promoter *<-- variabile dipendente*\n",
    "* Ticketing experience\n",
    "* Parking experience\n",
    "* Access experience\n",
    "* Check-in experience\n",
    "* Overall experience\n",
    "* Dining experience\n",
    "* Shows experience\n",
    "* Shopping experience\n",
    "* Wayfinding\n",
    "* Facilities & services experience\n",
    "* Value for money\n",
    "* Intention to revisit"
   ]
  },
  {
   "cell_type": "code",
   "execution_count": 10,
   "id": "88f65ecc-beb0-459b-8655-aa520f29f582",
   "metadata": {},
   "outputs": [
    {
     "data": {
      "text/html": [
       "<div>\n",
       "<style scoped>\n",
       "    .dataframe tbody tr th:only-of-type {\n",
       "        vertical-align: middle;\n",
       "    }\n",
       "\n",
       "    .dataframe tbody tr th {\n",
       "        vertical-align: top;\n",
       "    }\n",
       "\n",
       "    .dataframe thead th {\n",
       "        text-align: right;\n",
       "    }\n",
       "</style>\n",
       "<table border=\"1\" class=\"dataframe\">\n",
       "  <thead>\n",
       "    <tr style=\"text-align: right;\">\n",
       "      <th></th>\n",
       "      <th>Net Promoter</th>\n",
       "      <th>Ticketing experience</th>\n",
       "      <th>Parking experience</th>\n",
       "      <th>Access experience</th>\n",
       "      <th>Check-in experience</th>\n",
       "      <th>Overall experience</th>\n",
       "      <th>Dining experience</th>\n",
       "      <th>Shows experience</th>\n",
       "      <th>Shopping experience</th>\n",
       "      <th>Wayfinding</th>\n",
       "      <th>Facilities &amp; services experience</th>\n",
       "      <th>Value for money</th>\n",
       "      <th>Intention to revisit</th>\n",
       "      <th>Month</th>\n",
       "      <th>Age</th>\n",
       "      <th>Week</th>\n",
       "      <th>Day</th>\n",
       "      <th>Gender</th>\n",
       "      <th>UAE vs Abroad</th>\n",
       "    </tr>\n",
       "    <tr>\n",
       "      <th>surveyDataId</th>\n",
       "      <th></th>\n",
       "      <th></th>\n",
       "      <th></th>\n",
       "      <th></th>\n",
       "      <th></th>\n",
       "      <th></th>\n",
       "      <th></th>\n",
       "      <th></th>\n",
       "      <th></th>\n",
       "      <th></th>\n",
       "      <th></th>\n",
       "      <th></th>\n",
       "      <th></th>\n",
       "      <th></th>\n",
       "      <th></th>\n",
       "      <th></th>\n",
       "      <th></th>\n",
       "      <th></th>\n",
       "      <th></th>\n",
       "    </tr>\n",
       "  </thead>\n",
       "  <tbody>\n",
       "    <tr>\n",
       "      <th>05597325-35E3-4F39-930D-E3A874C9EF95</th>\n",
       "      <td>10.0</td>\n",
       "      <td>10.0</td>\n",
       "      <td>10.0</td>\n",
       "      <td>10</td>\n",
       "      <td>10</td>\n",
       "      <td>10.0</td>\n",
       "      <td>9.0</td>\n",
       "      <td>10.0</td>\n",
       "      <td>10.0</td>\n",
       "      <td>10.0</td>\n",
       "      <td>10.0</td>\n",
       "      <td>10</td>\n",
       "      <td>10</td>\n",
       "      <td>February</td>\n",
       "      <td>47</td>\n",
       "      <td>Week 17</td>\n",
       "      <td>2022-02-19</td>\n",
       "      <td>Female</td>\n",
       "      <td>Yes, I live in the United Arab Emirates</td>\n",
       "    </tr>\n",
       "    <tr>\n",
       "      <th>FA63114A-B303-4AFF-8915-F1D552DFA01B</th>\n",
       "      <td>10.0</td>\n",
       "      <td>10.0</td>\n",
       "      <td>6.0</td>\n",
       "      <td>3</td>\n",
       "      <td>10</td>\n",
       "      <td>9.0</td>\n",
       "      <td>4.0</td>\n",
       "      <td>9.0</td>\n",
       "      <td>8.0</td>\n",
       "      <td>9.0</td>\n",
       "      <td>7.0</td>\n",
       "      <td>8</td>\n",
       "      <td>8</td>\n",
       "      <td>February</td>\n",
       "      <td>39</td>\n",
       "      <td>Week 17</td>\n",
       "      <td>2022-02-18</td>\n",
       "      <td>Male</td>\n",
       "      <td>Yes, I live in the United Arab Emirates</td>\n",
       "    </tr>\n",
       "    <tr>\n",
       "      <th>C6F2F294-D3FA-43DC-B3AF-8AD8672D132D</th>\n",
       "      <td>8.0</td>\n",
       "      <td>10.0</td>\n",
       "      <td>8.0</td>\n",
       "      <td>9</td>\n",
       "      <td>8</td>\n",
       "      <td>8.0</td>\n",
       "      <td>NaN</td>\n",
       "      <td>5.0</td>\n",
       "      <td>5.0</td>\n",
       "      <td>10.0</td>\n",
       "      <td>8.0</td>\n",
       "      <td>7</td>\n",
       "      <td>3</td>\n",
       "      <td>February</td>\n",
       "      <td>37</td>\n",
       "      <td>Week 17</td>\n",
       "      <td>2022-02-19</td>\n",
       "      <td>Male</td>\n",
       "      <td>Yes, I live in the United Arab Emirates</td>\n",
       "    </tr>\n",
       "    <tr>\n",
       "      <th>07A500D6-3FD1-4CF8-8447-C6791A7FB171</th>\n",
       "      <td>10.0</td>\n",
       "      <td>10.0</td>\n",
       "      <td>NaN</td>\n",
       "      <td>9</td>\n",
       "      <td>10</td>\n",
       "      <td>10.0</td>\n",
       "      <td>8.0</td>\n",
       "      <td>9.0</td>\n",
       "      <td>8.0</td>\n",
       "      <td>10.0</td>\n",
       "      <td>10.0</td>\n",
       "      <td>10</td>\n",
       "      <td>10</td>\n",
       "      <td>February</td>\n",
       "      <td>39</td>\n",
       "      <td>Week 17</td>\n",
       "      <td>2022-02-20</td>\n",
       "      <td>Male</td>\n",
       "      <td>No, I live in another country</td>\n",
       "    </tr>\n",
       "    <tr>\n",
       "      <th>61F06759-786F-4828-9E16-D3A6D089CE48</th>\n",
       "      <td>10.0</td>\n",
       "      <td>10.0</td>\n",
       "      <td>10.0</td>\n",
       "      <td>10</td>\n",
       "      <td>10</td>\n",
       "      <td>10.0</td>\n",
       "      <td>NaN</td>\n",
       "      <td>10.0</td>\n",
       "      <td>NaN</td>\n",
       "      <td>10.0</td>\n",
       "      <td>10.0</td>\n",
       "      <td>10</td>\n",
       "      <td>10</td>\n",
       "      <td>February</td>\n",
       "      <td>47</td>\n",
       "      <td>Week 17</td>\n",
       "      <td>2022-02-19</td>\n",
       "      <td>Male</td>\n",
       "      <td>Yes, I live in the United Arab Emirates</td>\n",
       "    </tr>\n",
       "  </tbody>\n",
       "</table>\n",
       "</div>"
      ],
      "text/plain": [
       "                                      Net Promoter  Ticketing experience  \\\n",
       "surveyDataId                                                               \n",
       "05597325-35E3-4F39-930D-E3A874C9EF95          10.0                  10.0   \n",
       "FA63114A-B303-4AFF-8915-F1D552DFA01B          10.0                  10.0   \n",
       "C6F2F294-D3FA-43DC-B3AF-8AD8672D132D           8.0                  10.0   \n",
       "07A500D6-3FD1-4CF8-8447-C6791A7FB171          10.0                  10.0   \n",
       "61F06759-786F-4828-9E16-D3A6D089CE48          10.0                  10.0   \n",
       "\n",
       "                                      Parking experience  Access experience  \\\n",
       "surveyDataId                                                                  \n",
       "05597325-35E3-4F39-930D-E3A874C9EF95                10.0                 10   \n",
       "FA63114A-B303-4AFF-8915-F1D552DFA01B                 6.0                  3   \n",
       "C6F2F294-D3FA-43DC-B3AF-8AD8672D132D                 8.0                  9   \n",
       "07A500D6-3FD1-4CF8-8447-C6791A7FB171                 NaN                  9   \n",
       "61F06759-786F-4828-9E16-D3A6D089CE48                10.0                 10   \n",
       "\n",
       "                                      Check-in experience  Overall experience  \\\n",
       "surveyDataId                                                                    \n",
       "05597325-35E3-4F39-930D-E3A874C9EF95                   10                10.0   \n",
       "FA63114A-B303-4AFF-8915-F1D552DFA01B                   10                 9.0   \n",
       "C6F2F294-D3FA-43DC-B3AF-8AD8672D132D                    8                 8.0   \n",
       "07A500D6-3FD1-4CF8-8447-C6791A7FB171                   10                10.0   \n",
       "61F06759-786F-4828-9E16-D3A6D089CE48                   10                10.0   \n",
       "\n",
       "                                      Dining experience  Shows experience  \\\n",
       "surveyDataId                                                                \n",
       "05597325-35E3-4F39-930D-E3A874C9EF95                9.0              10.0   \n",
       "FA63114A-B303-4AFF-8915-F1D552DFA01B                4.0               9.0   \n",
       "C6F2F294-D3FA-43DC-B3AF-8AD8672D132D                NaN               5.0   \n",
       "07A500D6-3FD1-4CF8-8447-C6791A7FB171                8.0               9.0   \n",
       "61F06759-786F-4828-9E16-D3A6D089CE48                NaN              10.0   \n",
       "\n",
       "                                      Shopping experience  Wayfinding  \\\n",
       "surveyDataId                                                            \n",
       "05597325-35E3-4F39-930D-E3A874C9EF95                 10.0        10.0   \n",
       "FA63114A-B303-4AFF-8915-F1D552DFA01B                  8.0         9.0   \n",
       "C6F2F294-D3FA-43DC-B3AF-8AD8672D132D                  5.0        10.0   \n",
       "07A500D6-3FD1-4CF8-8447-C6791A7FB171                  8.0        10.0   \n",
       "61F06759-786F-4828-9E16-D3A6D089CE48                  NaN        10.0   \n",
       "\n",
       "                                      Facilities & services experience  \\\n",
       "surveyDataId                                                             \n",
       "05597325-35E3-4F39-930D-E3A874C9EF95                              10.0   \n",
       "FA63114A-B303-4AFF-8915-F1D552DFA01B                               7.0   \n",
       "C6F2F294-D3FA-43DC-B3AF-8AD8672D132D                               8.0   \n",
       "07A500D6-3FD1-4CF8-8447-C6791A7FB171                              10.0   \n",
       "61F06759-786F-4828-9E16-D3A6D089CE48                              10.0   \n",
       "\n",
       "                                      Value for money  Intention to revisit  \\\n",
       "surveyDataId                                                                  \n",
       "05597325-35E3-4F39-930D-E3A874C9EF95               10                    10   \n",
       "FA63114A-B303-4AFF-8915-F1D552DFA01B                8                     8   \n",
       "C6F2F294-D3FA-43DC-B3AF-8AD8672D132D                7                     3   \n",
       "07A500D6-3FD1-4CF8-8447-C6791A7FB171               10                    10   \n",
       "61F06759-786F-4828-9E16-D3A6D089CE48               10                    10   \n",
       "\n",
       "                                         Month  Age     Week        Day  \\\n",
       "surveyDataId                                                              \n",
       "05597325-35E3-4F39-930D-E3A874C9EF95  February   47  Week 17 2022-02-19   \n",
       "FA63114A-B303-4AFF-8915-F1D552DFA01B  February   39  Week 17 2022-02-18   \n",
       "C6F2F294-D3FA-43DC-B3AF-8AD8672D132D  February   37  Week 17 2022-02-19   \n",
       "07A500D6-3FD1-4CF8-8447-C6791A7FB171  February   39  Week 17 2022-02-20   \n",
       "61F06759-786F-4828-9E16-D3A6D089CE48  February   47  Week 17 2022-02-19   \n",
       "\n",
       "                                      Gender  \\\n",
       "surveyDataId                                   \n",
       "05597325-35E3-4F39-930D-E3A874C9EF95  Female   \n",
       "FA63114A-B303-4AFF-8915-F1D552DFA01B    Male   \n",
       "C6F2F294-D3FA-43DC-B3AF-8AD8672D132D    Male   \n",
       "07A500D6-3FD1-4CF8-8447-C6791A7FB171    Male   \n",
       "61F06759-786F-4828-9E16-D3A6D089CE48    Male   \n",
       "\n",
       "                                                                UAE vs Abroad  \n",
       "surveyDataId                                                                   \n",
       "05597325-35E3-4F39-930D-E3A874C9EF95  Yes, I live in the United Arab Emirates  \n",
       "FA63114A-B303-4AFF-8915-F1D552DFA01B  Yes, I live in the United Arab Emirates  \n",
       "C6F2F294-D3FA-43DC-B3AF-8AD8672D132D  Yes, I live in the United Arab Emirates  \n",
       "07A500D6-3FD1-4CF8-8447-C6791A7FB171            No, I live in another country  \n",
       "61F06759-786F-4828-9E16-D3A6D089CE48  Yes, I live in the United Arab Emirates  "
      ]
     },
     "execution_count": 10,
     "metadata": {},
     "output_type": "execute_result"
    }
   ],
   "source": [
    "df_sat.head()"
   ]
  },
  {
   "cell_type": "code",
   "execution_count": 11,
   "id": "0b06bb68-14eb-42f6-aafa-fbbe4593da03",
   "metadata": {},
   "outputs": [],
   "source": [
    "df_TKT = pd.crosstab(df_sat.iloc[:,0],df_sat.iloc[:,1])\n",
    "df_PRK = pd.crosstab(df_sat.iloc[:,0],df_sat.iloc[:,2])\n",
    "df_ACC = pd.crosstab(df_sat.iloc[:,0],df_sat.iloc[:,3])\n",
    "df_CHK = pd.crosstab(df_sat.iloc[:,0],df_sat.iloc[:,4])\n",
    "df_OVX = pd.crosstab(df_sat.iloc[:,0],df_sat.iloc[:,5])\n",
    "df_DIN = pd.crosstab(df_sat.iloc[:,0],df_sat.iloc[:,6])\n",
    "df_SHW = pd.crosstab(df_sat.iloc[:,0],df_sat.iloc[:,7])\n",
    "df_SHP = pd.crosstab(df_sat.iloc[:,0],df_sat.iloc[:,8])\n",
    "df_WAY = pd.crosstab(df_sat.iloc[:,0],df_sat.iloc[:,9])\n",
    "df_FCS = pd.crosstab(df_sat.iloc[:,0],df_sat.iloc[:,10])\n",
    "df_VFM = pd.crosstab(df_sat.iloc[:,0],df_sat.iloc[:,11])\n",
    "df_ITR = pd.crosstab(df_sat.iloc[:,0],df_sat.iloc[:,12])"
   ]
  },
  {
   "cell_type": "markdown",
   "id": "81dc53a3-b03a-4d38-a2f7-5b6c596adb47",
   "metadata": {},
   "source": [
    "Calcolo i valori della D di Somers per ciascuna soddisfazione nei confronti dell'NPS."
   ]
  },
  {
   "cell_type": "code",
   "execution_count": 12,
   "id": "d112198a-b3ea-4da4-88fb-9a88b72172e3",
   "metadata": {},
   "outputs": [],
   "source": [
    "res_TKT = somersd(df_TKT)\n",
    "res_PRK = somersd(df_PRK)\n",
    "res_ACC = somersd(df_ACC)\n",
    "res_CHK = somersd(df_CHK)\n",
    "res_OVX = somersd(df_OVX)\n",
    "res_DIN = somersd(df_DIN)\n",
    "res_SHW = somersd(df_SHW)\n",
    "res_SHP = somersd(df_SHP)\n",
    "res_WAY = somersd(df_WAY)\n",
    "res_FCS = somersd(df_FCS)\n",
    "res_VFM = somersd(df_VFM)\n",
    "res_ITR = somersd(df_ITR)"
   ]
  },
  {
   "cell_type": "code",
   "execution_count": 13,
   "id": "119d4c85-ad89-40df-80e3-7fe03a82c543",
   "metadata": {
    "tags": []
   },
   "outputs": [],
   "source": [
    "df_sat.drop(df_sat.columns[[0, 13, 14, 15, 16, 17, 18]], axis = 1, inplace = True)"
   ]
  },
  {
   "cell_type": "code",
   "execution_count": 14,
   "id": "31e8df99-f8e5-44ef-9e7b-6a48ffe45beb",
   "metadata": {
    "tags": []
   },
   "outputs": [],
   "source": [
    "res_names = list(df_sat.columns)"
   ]
  },
  {
   "cell_type": "code",
   "execution_count": 15,
   "id": "1275d13a-360f-4eb3-a163-ca6b39ad3e48",
   "metadata": {},
   "outputs": [],
   "source": [
    "res_STAT = [res_TKT.statistic, res_PRK.statistic, res_ACC.statistic, res_CHK.statistic, res_OVX.statistic, res_DIN.statistic, res_SHW.statistic, res_SHP.statistic, res_WAY.statistic, res_FCS.statistic, res_VFM.statistic, res_ITR.statistic]\n",
    "res_PVAL = [res_TKT.pvalue, res_PRK.pvalue, res_ACC.pvalue, res_CHK.pvalue, res_OVX.pvalue, res_DIN.pvalue, res_SHW.pvalue, res_SHP.pvalue, res_WAY.pvalue, res_FCS.pvalue, res_VFM.pvalue, res_ITR.pvalue]"
   ]
  },
  {
   "cell_type": "code",
   "execution_count": 16,
   "id": "36b595d0-b7b2-4c73-b283-ec0c2153fe87",
   "metadata": {},
   "outputs": [
    {
     "name": "stdout",
     "output_type": "stream",
     "text": [
      "                                   D (NPS)        p-value\n",
      "Ticketing experience              0.372163  1.213579e-119\n",
      "Parking experience                0.387801   5.890818e-96\n",
      "Access experience                 0.367414  9.778739e-106\n",
      "Check-in experience               0.452106  4.529645e-168\n",
      "Overall experience                0.710192   0.000000e+00\n",
      "Dining experience                 0.502143  7.031609e-189\n",
      "Shows experience                  0.518347  1.729899e-174\n",
      "Shopping experience               0.533626  1.060462e-221\n",
      "Wayfinding                        0.416086  1.497625e-136\n",
      "Facilities & services experience  0.520253  8.372584e-221\n",
      "Value for money                   0.398072  1.357148e-117\n",
      "Intention to revisit              0.655257   0.000000e+00\n"
     ]
    }
   ],
   "source": [
    "res_ALL = pd.DataFrame({'D (NPS)' : res_STAT, 'p-value' : res_PVAL})\n",
    "res_ALL.index = res_names\n",
    "print(res_ALL)"
   ]
  },
  {
   "cell_type": "markdown",
   "id": "e70d1342-7be1-4d82-a32e-0b2d54bdc2e6",
   "metadata": {},
   "source": [
    "I valori del p-value sono tutti prossimi allo zero. Preparo quindi una heatmap."
   ]
  },
  {
   "cell_type": "code",
   "execution_count": 17,
   "id": "002964d6-d3bb-4b8a-9329-6bc3be5e7735",
   "metadata": {},
   "outputs": [],
   "source": [
    "res_HTMP = pd.DataFrame({'D (NPS)' : res_STAT})\n",
    "res_HTMP.index = res_names"
   ]
  },
  {
   "cell_type": "code",
   "execution_count": 18,
   "id": "95a285f4-e17b-4af9-aaa6-7c15b1a09fb1",
   "metadata": {},
   "outputs": [
    {
     "data": {
      "text/plain": [
       "<AxesSubplot:>"
      ]
     },
     "execution_count": 18,
     "metadata": {},
     "output_type": "execute_result"
    },
    {
     "data": {
      "image/png": "[encoded data removed]",
      "text/plain": [
       "<Figure size 432x288 with 2 Axes>"
      ]
     },
     "metadata": {
      "needs_background": "light"
     },
     "output_type": "display_data"
    }
   ],
   "source": [
    "sns.heatmap(res_HTMP, cmap=\"RdYlGn\", linewidths=.8, annot=True)"
   ]
  },
  {
   "cell_type": "markdown",
   "id": "493fa3e0-e456-44a0-975b-bbc30796f488",
   "metadata": {},
   "source": [
    "***\n",
    "### 4. Modelli di training: Regressione Logistica"
   ]
  },
  {
   "cell_type": "markdown",
   "id": "4a67146b-be4e-41e4-9b8a-2790a93b6fd8",
   "metadata": {},
   "source": [
    "Il modello di **regressione logistica** viene utilizzato quando si vuole analizzare la relazione causale tra una variabile dipendente dicotomica e una o più variabili indipendenti quantitative. È un metodo di **classificazione**."
   ]
  },
  {
   "cell_type": "markdown",
   "id": "dd4cb569-203a-4bba-b660-59602ff3a236",
   "metadata": {},
   "source": [
    "La regressione logistica è definita come:</br>\n",
    "$$y = f(z) = \\frac{1}{1+e^{-z}} = \\frac{e^z}{1+e^z}\n",
    "$$"
   ]
  },
  {
   "cell_type": "markdown",
   "id": "3a6a36df-8ecb-4205-b4ef-4725aed7f15f",
   "metadata": {},
   "source": [
    "Con il set di dati a disposizione, provo a verificare quanto una soddisfazione positiva nella visita a Global Village dipenda dalle variabili indipendenti (genere, età, nazionalità)."
   ]
  },
  {
   "cell_type": "code",
   "execution_count": 19,
   "id": "c2ee5d82-d7cc-4602-8c4d-f08c6db9efe5",
   "metadata": {
    "tags": []
   },
   "outputs": [],
   "source": [
    "df_sat = pd.read_excel ('GV_Season_26_JAN_FEB.xlsx', sheet_name='db_sat', index_col=0)\n",
    "X = df_sat"
   ]
  },
  {
   "cell_type": "code",
   "execution_count": 20,
   "id": "971560f0-a700-49a4-b30d-3452050df700",
   "metadata": {},
   "outputs": [],
   "source": [
    "X.drop(df_sat.columns[[0, 1, 2, 3, 4, 6, 7, 8, 9, 10, 11, 12, 13, 15, 16]], axis = 1, inplace = True)"
   ]
  },
  {
   "cell_type": "code",
   "execution_count": 21,
   "id": "fd46055d-16ab-44f3-ae57-cf9374a1e6bf",
   "metadata": {},
   "outputs": [
    {
     "data": {
      "text/html": [
       "<div>\n",
       "<style scoped>\n",
       "    .dataframe tbody tr th:only-of-type {\n",
       "        vertical-align: middle;\n",
       "    }\n",
       "\n",
       "    .dataframe tbody tr th {\n",
       "        vertical-align: top;\n",
       "    }\n",
       "\n",
       "    .dataframe thead th {\n",
       "        text-align: right;\n",
       "    }\n",
       "</style>\n",
       "<table border=\"1\" class=\"dataframe\">\n",
       "  <thead>\n",
       "    <tr style=\"text-align: right;\">\n",
       "      <th></th>\n",
       "      <th>Overall experience</th>\n",
       "      <th>Age</th>\n",
       "      <th>Gender</th>\n",
       "      <th>UAE vs Abroad</th>\n",
       "    </tr>\n",
       "    <tr>\n",
       "      <th>surveyDataId</th>\n",
       "      <th></th>\n",
       "      <th></th>\n",
       "      <th></th>\n",
       "      <th></th>\n",
       "    </tr>\n",
       "  </thead>\n",
       "  <tbody>\n",
       "    <tr>\n",
       "      <th>05597325-35E3-4F39-930D-E3A874C9EF95</th>\n",
       "      <td>10.0</td>\n",
       "      <td>47</td>\n",
       "      <td>Female</td>\n",
       "      <td>Yes, I live in the United Arab Emirates</td>\n",
       "    </tr>\n",
       "    <tr>\n",
       "      <th>FA63114A-B303-4AFF-8915-F1D552DFA01B</th>\n",
       "      <td>9.0</td>\n",
       "      <td>39</td>\n",
       "      <td>Male</td>\n",
       "      <td>Yes, I live in the United Arab Emirates</td>\n",
       "    </tr>\n",
       "    <tr>\n",
       "      <th>C6F2F294-D3FA-43DC-B3AF-8AD8672D132D</th>\n",
       "      <td>8.0</td>\n",
       "      <td>37</td>\n",
       "      <td>Male</td>\n",
       "      <td>Yes, I live in the United Arab Emirates</td>\n",
       "    </tr>\n",
       "    <tr>\n",
       "      <th>07A500D6-3FD1-4CF8-8447-C6791A7FB171</th>\n",
       "      <td>10.0</td>\n",
       "      <td>39</td>\n",
       "      <td>Male</td>\n",
       "      <td>No, I live in another country</td>\n",
       "    </tr>\n",
       "    <tr>\n",
       "      <th>61F06759-786F-4828-9E16-D3A6D089CE48</th>\n",
       "      <td>10.0</td>\n",
       "      <td>47</td>\n",
       "      <td>Male</td>\n",
       "      <td>Yes, I live in the United Arab Emirates</td>\n",
       "    </tr>\n",
       "  </tbody>\n",
       "</table>\n",
       "</div>"
      ],
      "text/plain": [
       "                                      Overall experience  Age  Gender  \\\n",
       "surveyDataId                                                            \n",
       "05597325-35E3-4F39-930D-E3A874C9EF95                10.0   47  Female   \n",
       "FA63114A-B303-4AFF-8915-F1D552DFA01B                 9.0   39    Male   \n",
       "C6F2F294-D3FA-43DC-B3AF-8AD8672D132D                 8.0   37    Male   \n",
       "07A500D6-3FD1-4CF8-8447-C6791A7FB171                10.0   39    Male   \n",
       "61F06759-786F-4828-9E16-D3A6D089CE48                10.0   47    Male   \n",
       "\n",
       "                                                                UAE vs Abroad  \n",
       "surveyDataId                                                                   \n",
       "05597325-35E3-4F39-930D-E3A874C9EF95  Yes, I live in the United Arab Emirates  \n",
       "FA63114A-B303-4AFF-8915-F1D552DFA01B  Yes, I live in the United Arab Emirates  \n",
       "C6F2F294-D3FA-43DC-B3AF-8AD8672D132D  Yes, I live in the United Arab Emirates  \n",
       "07A500D6-3FD1-4CF8-8447-C6791A7FB171            No, I live in another country  \n",
       "61F06759-786F-4828-9E16-D3A6D089CE48  Yes, I live in the United Arab Emirates  "
      ]
     },
     "execution_count": 21,
     "metadata": {},
     "output_type": "execute_result"
    }
   ],
   "source": [
    "X.head()"
   ]
  },
  {
   "cell_type": "markdown",
   "id": "fade6bf3-c602-4854-bb2e-f9e77ee1527c",
   "metadata": {},
   "source": [
    "Sono sicuramente presenti dei null, che vado ad eliminare."
   ]
  },
  {
   "cell_type": "code",
   "execution_count": 22,
   "id": "d88c1458-588a-4ab7-8e31-8aef52a08b18",
   "metadata": {},
   "outputs": [],
   "source": [
    "X = X.dropna()"
   ]
  },
  {
   "cell_type": "code",
   "execution_count": 23,
   "id": "2ef2ad6e-a6ad-4d82-82c8-9bc7a017078d",
   "metadata": {},
   "outputs": [
    {
     "data": {
      "text/plain": [
       "(3502, 4)"
      ]
     },
     "execution_count": 23,
     "metadata": {},
     "output_type": "execute_result"
    }
   ],
   "source": [
    "X.shape"
   ]
  },
  {
   "cell_type": "markdown",
   "id": "88d9902d-5b12-435b-8393-84112bcb479a",
   "metadata": {},
   "source": [
    "La variabile dipendente deve essere dicotomica, io invece ho valori da 1 a 10 (scala di Likert). Voglio quindi assegnare il valore 0 a coloro che indicano un grado di soddisfazione da 1 a 8, e il valore 1 a chi indica 9 o 10."
   ]
  },
  {
   "cell_type": "code",
   "execution_count": 24,
   "id": "ea462c00-c801-4fe9-9780-0cc1e80893d0",
   "metadata": {
    "tags": []
   },
   "outputs": [],
   "source": [
    "X['Overall experience'].values[X['Overall experience'] < 9] = 0\n",
    "X['Overall experience'].values[X['Overall experience'] >= 9] = 1"
   ]
  },
  {
   "cell_type": "code",
   "execution_count": 25,
   "id": "600f04d2-127b-4f09-9acd-fbc9e7b16c0f",
   "metadata": {},
   "outputs": [],
   "source": [
    "def hist_total_response_by_sat():\n",
    "    plt.figure(figsize=(6, 6))\n",
    "    sns.countplot(x='Overall experience', data=X, palette=\"RdYlGn\")\n",
    "    plt.show()"
   ]
  },
  {
   "cell_type": "code",
   "execution_count": 26,
   "id": "d4257403-145c-471c-8593-b982c763939a",
   "metadata": {},
   "outputs": [
    {
     "data": {
      "image/png": "[encoded data removed]",
      "text/plain": [
       "<Figure size 432x432 with 1 Axes>"
      ]
     },
     "metadata": {
      "needs_background": "light"
     },
     "output_type": "display_data"
    }
   ],
   "source": [
    "hist_total_response_by_sat()"
   ]
  },
  {
   "cell_type": "markdown",
   "id": "100849e4-3628-46c1-a552-a79246214368",
   "metadata": {},
   "source": [
    "Sistemo anche le altre variabili."
   ]
  },
  {
   "cell_type": "code",
   "execution_count": 27,
   "id": "5be92d07-f01f-4378-8e03-50a1384d246c",
   "metadata": {
    "tags": []
   },
   "outputs": [],
   "source": [
    "X['Gender'].values[X['Gender'] == 'Female'] = 0\n",
    "X['Gender'].values[X['Gender'] == 'Male'] = 1\n",
    "X['UAE vs Abroad'].values[X['UAE vs Abroad'] == 'Yes, I live in the United Arab Emirates'] = 0\n",
    "X['UAE vs Abroad'].values[X['UAE vs Abroad'] == 'No, I live in another country'] = 1"
   ]
  },
  {
   "cell_type": "code",
   "execution_count": 28,
   "id": "9cb80f41-b288-47e1-9924-340c2a3a9ed4",
   "metadata": {},
   "outputs": [
    {
     "data": {
      "text/html": [
       "<div>\n",
       "<style scoped>\n",
       "    .dataframe tbody tr th:only-of-type {\n",
       "        vertical-align: middle;\n",
       "    }\n",
       "\n",
       "    .dataframe tbody tr th {\n",
       "        vertical-align: top;\n",
       "    }\n",
       "\n",
       "    .dataframe thead th {\n",
       "        text-align: right;\n",
       "    }\n",
       "</style>\n",
       "<table border=\"1\" class=\"dataframe\">\n",
       "  <thead>\n",
       "    <tr style=\"text-align: right;\">\n",
       "      <th></th>\n",
       "      <th>Overall experience</th>\n",
       "      <th>Age</th>\n",
       "      <th>Gender</th>\n",
       "      <th>UAE vs Abroad</th>\n",
       "    </tr>\n",
       "    <tr>\n",
       "      <th>surveyDataId</th>\n",
       "      <th></th>\n",
       "      <th></th>\n",
       "      <th></th>\n",
       "      <th></th>\n",
       "    </tr>\n",
       "  </thead>\n",
       "  <tbody>\n",
       "    <tr>\n",
       "      <th>05597325-35E3-4F39-930D-E3A874C9EF95</th>\n",
       "      <td>1.0</td>\n",
       "      <td>47</td>\n",
       "      <td>0</td>\n",
       "      <td>0</td>\n",
       "    </tr>\n",
       "    <tr>\n",
       "      <th>FA63114A-B303-4AFF-8915-F1D552DFA01B</th>\n",
       "      <td>1.0</td>\n",
       "      <td>39</td>\n",
       "      <td>1</td>\n",
       "      <td>0</td>\n",
       "    </tr>\n",
       "    <tr>\n",
       "      <th>C6F2F294-D3FA-43DC-B3AF-8AD8672D132D</th>\n",
       "      <td>0.0</td>\n",
       "      <td>37</td>\n",
       "      <td>1</td>\n",
       "      <td>0</td>\n",
       "    </tr>\n",
       "    <tr>\n",
       "      <th>07A500D6-3FD1-4CF8-8447-C6791A7FB171</th>\n",
       "      <td>1.0</td>\n",
       "      <td>39</td>\n",
       "      <td>1</td>\n",
       "      <td>1</td>\n",
       "    </tr>\n",
       "    <tr>\n",
       "      <th>61F06759-786F-4828-9E16-D3A6D089CE48</th>\n",
       "      <td>1.0</td>\n",
       "      <td>47</td>\n",
       "      <td>1</td>\n",
       "      <td>0</td>\n",
       "    </tr>\n",
       "  </tbody>\n",
       "</table>\n",
       "</div>"
      ],
      "text/plain": [
       "                                      Overall experience  Age Gender  \\\n",
       "surveyDataId                                                           \n",
       "05597325-35E3-4F39-930D-E3A874C9EF95                 1.0   47      0   \n",
       "FA63114A-B303-4AFF-8915-F1D552DFA01B                 1.0   39      1   \n",
       "C6F2F294-D3FA-43DC-B3AF-8AD8672D132D                 0.0   37      1   \n",
       "07A500D6-3FD1-4CF8-8447-C6791A7FB171                 1.0   39      1   \n",
       "61F06759-786F-4828-9E16-D3A6D089CE48                 1.0   47      1   \n",
       "\n",
       "                                     UAE vs Abroad  \n",
       "surveyDataId                                        \n",
       "05597325-35E3-4F39-930D-E3A874C9EF95             0  \n",
       "FA63114A-B303-4AFF-8915-F1D552DFA01B             0  \n",
       "C6F2F294-D3FA-43DC-B3AF-8AD8672D132D             0  \n",
       "07A500D6-3FD1-4CF8-8447-C6791A7FB171             1  \n",
       "61F06759-786F-4828-9E16-D3A6D089CE48             0  "
      ]
     },
     "execution_count": 28,
     "metadata": {},
     "output_type": "execute_result"
    }
   ],
   "source": [
    "X.head()"
   ]
  },
  {
   "cell_type": "code",
   "execution_count": 29,
   "id": "250a13eb-bb46-4c4f-9bb6-c13e1d955289",
   "metadata": {},
   "outputs": [
    {
     "data": {
      "text/html": [
       "<div>\n",
       "<style scoped>\n",
       "    .dataframe tbody tr th:only-of-type {\n",
       "        vertical-align: middle;\n",
       "    }\n",
       "\n",
       "    .dataframe tbody tr th {\n",
       "        vertical-align: top;\n",
       "    }\n",
       "\n",
       "    .dataframe thead th {\n",
       "        text-align: right;\n",
       "    }\n",
       "</style>\n",
       "<table border=\"1\" class=\"dataframe\">\n",
       "  <thead>\n",
       "    <tr style=\"text-align: right;\">\n",
       "      <th>Overall experience</th>\n",
       "      <th>0.0</th>\n",
       "      <th>1.0</th>\n",
       "      <th>Total</th>\n",
       "    </tr>\n",
       "    <tr>\n",
       "      <th>Gender</th>\n",
       "      <th></th>\n",
       "      <th></th>\n",
       "      <th></th>\n",
       "    </tr>\n",
       "  </thead>\n",
       "  <tbody>\n",
       "    <tr>\n",
       "      <th>0</th>\n",
       "      <td>407</td>\n",
       "      <td>874</td>\n",
       "      <td>1281</td>\n",
       "    </tr>\n",
       "    <tr>\n",
       "      <th>1</th>\n",
       "      <td>800</td>\n",
       "      <td>1421</td>\n",
       "      <td>2221</td>\n",
       "    </tr>\n",
       "    <tr>\n",
       "      <th>Total</th>\n",
       "      <td>1207</td>\n",
       "      <td>2295</td>\n",
       "      <td>3502</td>\n",
       "    </tr>\n",
       "  </tbody>\n",
       "</table>\n",
       "</div>"
      ],
      "text/plain": [
       "Overall experience   0.0   1.0  Total\n",
       "Gender                               \n",
       "0                    407   874   1281\n",
       "1                    800  1421   2221\n",
       "Total               1207  2295   3502"
      ]
     },
     "execution_count": 29,
     "metadata": {},
     "output_type": "execute_result"
    }
   ],
   "source": [
    "pd.crosstab(X['Gender'], X['Overall experience'], margins=True, margins_name=\"Total\")"
   ]
  },
  {
   "cell_type": "code",
   "execution_count": 30,
   "id": "90ab3159-e6eb-4d6d-899e-3023a07d1207",
   "metadata": {},
   "outputs": [
    {
     "data": {
      "text/html": [
       "<div>\n",
       "<style scoped>\n",
       "    .dataframe tbody tr th:only-of-type {\n",
       "        vertical-align: middle;\n",
       "    }\n",
       "\n",
       "    .dataframe tbody tr th {\n",
       "        vertical-align: top;\n",
       "    }\n",
       "\n",
       "    .dataframe thead th {\n",
       "        text-align: right;\n",
       "    }\n",
       "</style>\n",
       "<table border=\"1\" class=\"dataframe\">\n",
       "  <thead>\n",
       "    <tr style=\"text-align: right;\">\n",
       "      <th>Overall experience</th>\n",
       "      <th>0.0</th>\n",
       "      <th>1.0</th>\n",
       "      <th>Total</th>\n",
       "    </tr>\n",
       "    <tr>\n",
       "      <th>Age</th>\n",
       "      <th></th>\n",
       "      <th></th>\n",
       "      <th></th>\n",
       "    </tr>\n",
       "  </thead>\n",
       "  <tbody>\n",
       "    <tr>\n",
       "      <th>13</th>\n",
       "      <td>7</td>\n",
       "      <td>10</td>\n",
       "      <td>17</td>\n",
       "    </tr>\n",
       "    <tr>\n",
       "      <th>14</th>\n",
       "      <td>2</td>\n",
       "      <td>4</td>\n",
       "      <td>6</td>\n",
       "    </tr>\n",
       "    <tr>\n",
       "      <th>15</th>\n",
       "      <td>0</td>\n",
       "      <td>1</td>\n",
       "      <td>1</td>\n",
       "    </tr>\n",
       "    <tr>\n",
       "      <th>16</th>\n",
       "      <td>1</td>\n",
       "      <td>2</td>\n",
       "      <td>3</td>\n",
       "    </tr>\n",
       "    <tr>\n",
       "      <th>17</th>\n",
       "      <td>2</td>\n",
       "      <td>4</td>\n",
       "      <td>6</td>\n",
       "    </tr>\n",
       "    <tr>\n",
       "      <th>...</th>\n",
       "      <td>...</td>\n",
       "      <td>...</td>\n",
       "      <td>...</td>\n",
       "    </tr>\n",
       "    <tr>\n",
       "      <th>72</th>\n",
       "      <td>0</td>\n",
       "      <td>2</td>\n",
       "      <td>2</td>\n",
       "    </tr>\n",
       "    <tr>\n",
       "      <th>73</th>\n",
       "      <td>0</td>\n",
       "      <td>2</td>\n",
       "      <td>2</td>\n",
       "    </tr>\n",
       "    <tr>\n",
       "      <th>75</th>\n",
       "      <td>0</td>\n",
       "      <td>1</td>\n",
       "      <td>1</td>\n",
       "    </tr>\n",
       "    <tr>\n",
       "      <th>76</th>\n",
       "      <td>2</td>\n",
       "      <td>0</td>\n",
       "      <td>2</td>\n",
       "    </tr>\n",
       "    <tr>\n",
       "      <th>Total</th>\n",
       "      <td>1207</td>\n",
       "      <td>2295</td>\n",
       "      <td>3502</td>\n",
       "    </tr>\n",
       "  </tbody>\n",
       "</table>\n",
       "<p>64 rows × 3 columns</p>\n",
       "</div>"
      ],
      "text/plain": [
       "Overall experience   0.0   1.0  Total\n",
       "Age                                  \n",
       "13                     7    10     17\n",
       "14                     2     4      6\n",
       "15                     0     1      1\n",
       "16                     1     2      3\n",
       "17                     2     4      6\n",
       "...                  ...   ...    ...\n",
       "72                     0     2      2\n",
       "73                     0     2      2\n",
       "75                     0     1      1\n",
       "76                     2     0      2\n",
       "Total               1207  2295   3502\n",
       "\n",
       "[64 rows x 3 columns]"
      ]
     },
     "execution_count": 30,
     "metadata": {},
     "output_type": "execute_result"
    }
   ],
   "source": [
    "pd.crosstab(X['Age'], X['Overall experience'], margins=True, margins_name=\"Total\")"
   ]
  },
  {
   "cell_type": "code",
   "execution_count": 31,
   "id": "413853e3-7780-420c-9115-cfbfa5c8b190",
   "metadata": {},
   "outputs": [
    {
     "data": {
      "text/html": [
       "<div>\n",
       "<style scoped>\n",
       "    .dataframe tbody tr th:only-of-type {\n",
       "        vertical-align: middle;\n",
       "    }\n",
       "\n",
       "    .dataframe tbody tr th {\n",
       "        vertical-align: top;\n",
       "    }\n",
       "\n",
       "    .dataframe thead th {\n",
       "        text-align: right;\n",
       "    }\n",
       "</style>\n",
       "<table border=\"1\" class=\"dataframe\">\n",
       "  <thead>\n",
       "    <tr style=\"text-align: right;\">\n",
       "      <th>Overall experience</th>\n",
       "      <th>0.0</th>\n",
       "      <th>1.0</th>\n",
       "      <th>Total</th>\n",
       "    </tr>\n",
       "    <tr>\n",
       "      <th>UAE vs Abroad</th>\n",
       "      <th></th>\n",
       "      <th></th>\n",
       "      <th></th>\n",
       "    </tr>\n",
       "  </thead>\n",
       "  <tbody>\n",
       "    <tr>\n",
       "      <th>0</th>\n",
       "      <td>995</td>\n",
       "      <td>1878</td>\n",
       "      <td>2873</td>\n",
       "    </tr>\n",
       "    <tr>\n",
       "      <th>1</th>\n",
       "      <td>212</td>\n",
       "      <td>417</td>\n",
       "      <td>629</td>\n",
       "    </tr>\n",
       "    <tr>\n",
       "      <th>Total</th>\n",
       "      <td>1207</td>\n",
       "      <td>2295</td>\n",
       "      <td>3502</td>\n",
       "    </tr>\n",
       "  </tbody>\n",
       "</table>\n",
       "</div>"
      ],
      "text/plain": [
       "Overall experience   0.0   1.0  Total\n",
       "UAE vs Abroad                        \n",
       "0                    995  1878   2873\n",
       "1                    212   417    629\n",
       "Total               1207  2295   3502"
      ]
     },
     "execution_count": 31,
     "metadata": {},
     "output_type": "execute_result"
    }
   ],
   "source": [
    "pd.crosstab(X['UAE vs Abroad'], X['Overall experience'], margins=True, margins_name=\"Total\")"
   ]
  },
  {
   "cell_type": "markdown",
   "id": "854e9219-8fb8-465b-a664-b516b8c8de2b",
   "metadata": {},
   "source": [
    "A occhio nudo non sembra ci siano grandi correlazioni fa le variabili demografiche e la soddisfazione:"
   ]
  },
  {
   "cell_type": "code",
   "execution_count": 32,
   "id": "4bdb08c3-61a0-4761-97fa-63df1780c870",
   "metadata": {},
   "outputs": [
    {
     "data": {
      "text/plain": [
       "<AxesSubplot:xlabel='Overall experience', ylabel='count'>"
      ]
     },
     "execution_count": 32,
     "metadata": {},
     "output_type": "execute_result"
    },
    {
     "data": {
      "image/png": "[encoded data removed]",
      "text/plain": [
       "<Figure size 432x288 with 1 Axes>"
      ]
     },
     "metadata": {
      "needs_background": "light"
     },
     "output_type": "display_data"
    }
   ],
   "source": [
    "sns.countplot(x='Overall experience',hue='Gender',data=X)"
   ]
  },
  {
   "cell_type": "code",
   "execution_count": 33,
   "id": "9d75b548-196b-4e25-9cfe-c5e04d762731",
   "metadata": {},
   "outputs": [
    {
     "data": {
      "text/plain": [
       "<AxesSubplot:xlabel='Overall experience', ylabel='count'>"
      ]
     },
     "execution_count": 33,
     "metadata": {},
     "output_type": "execute_result"
    },
    {
     "data": {
      "image/png": "[encoded data removed]",
      "text/plain": [
       "<Figure size 432x288 with 1 Axes>"
      ]
     },
     "metadata": {
      "needs_background": "light"
     },
     "output_type": "display_data"
    }
   ],
   "source": [
    "sns.countplot(x='Overall experience',hue='UAE vs Abroad',data=X)"
   ]
  },
  {
   "cell_type": "code",
   "execution_count": 34,
   "id": "a93aa4cc-f8a7-48b0-a2bd-7b899ae88b75",
   "metadata": {
    "tags": []
   },
   "outputs": [],
   "source": [
    "X_train, X_test, y_train, y_test = train_test_split(X.drop('Overall experience',axis=1), \n",
    "                                                    X['Overall experience'], test_size=0.30, \n",
    "                                                    random_state=45)\n"
   ]
  },
  {
   "cell_type": "code",
   "execution_count": 35,
   "id": "074e029d-3f21-4adb-8dff-44231017efc1",
   "metadata": {},
   "outputs": [],
   "source": [
    "logit_cls = LogisticRegression(max_iter=1000)\n",
    "logit_cls.fit(X_train,y_train)\n",
    "predictions = logit_cls.predict(X_test)"
   ]
  },
  {
   "cell_type": "code",
   "execution_count": 36,
   "id": "efb737e1-6dc3-453e-a217-a51c76b15460",
   "metadata": {},
   "outputs": [
    {
     "name": "stdout",
     "output_type": "stream",
     "text": [
      "              precision    recall  f1-score   support\n",
      "\n",
      "         0.0       0.00      0.00      0.00       359\n",
      "         1.0       0.66      1.00      0.79       692\n",
      "\n",
      "    accuracy                           0.66      1051\n",
      "   macro avg       0.33      0.50      0.40      1051\n",
      "weighted avg       0.43      0.66      0.52      1051\n",
      "\n"
     ]
    },
    {
     "name": "stderr",
     "output_type": "stream",
     "text": [
      "C:\\ProgramData\\Anaconda3\\lib\\site-packages\\sklearn\\metrics\\_classification.py:1248: UndefinedMetricWarning: Precision and F-score are ill-defined and being set to 0.0 in labels with no predicted samples. Use `zero_division` parameter to control this behavior.\n",
      "  _warn_prf(average, modifier, msg_start, len(result))\n",
      "C:\\ProgramData\\Anaconda3\\lib\\site-packages\\sklearn\\metrics\\_classification.py:1248: UndefinedMetricWarning: Precision and F-score are ill-defined and being set to 0.0 in labels with no predicted samples. Use `zero_division` parameter to control this behavior.\n",
      "  _warn_prf(average, modifier, msg_start, len(result))\n",
      "C:\\ProgramData\\Anaconda3\\lib\\site-packages\\sklearn\\metrics\\_classification.py:1248: UndefinedMetricWarning: Precision and F-score are ill-defined and being set to 0.0 in labels with no predicted samples. Use `zero_division` parameter to control this behavior.\n",
      "  _warn_prf(average, modifier, msg_start, len(result))\n"
     ]
    }
   ],
   "source": [
    "print(classification_report(y_test,predictions))"
   ]
  },
  {
   "cell_type": "code",
   "execution_count": 37,
   "id": "b0388140-bfca-47da-940d-748ddd31758d",
   "metadata": {},
   "outputs": [],
   "source": [
    "y_scores = cross_val_predict(logit_cls, X_train, y_train, cv = 10, method='decision_function')"
   ]
  },
  {
   "cell_type": "code",
   "execution_count": 38,
   "id": "5ac74fb7-69d8-4365-bc16-0c22742b3ddc",
   "metadata": {},
   "outputs": [],
   "source": [
    "prec, recall, soglia = precision_recall_curve(y_train, y_scores)"
   ]
  },
  {
   "cell_type": "code",
   "execution_count": 39,
   "id": "4ba4427f-5d04-4d79-90f1-e78ff94734cd",
   "metadata": {},
   "outputs": [
    {
     "data": {
      "text/plain": [
       "<matplotlib.legend.Legend at 0x2656e8d9a60>"
      ]
     },
     "execution_count": 39,
     "metadata": {},
     "output_type": "execute_result"
    },
    {
     "data": {
      "image/png": "[encoded data removed]",
      "text/plain": [
       "<Figure size 1152x648 with 1 Axes>"
      ]
     },
     "metadata": {
      "needs_background": "light"
     },
     "output_type": "display_data"
    }
   ],
   "source": [
    "fig_prc = plt.figure(figsize=(16,9))\n",
    "ax = fig_prc.add_subplot()\n",
    "ax.plot(soglia, prec[:-1], 'r', label = 'precision')\n",
    "ax.plot(soglia, recall[:-1], 'b', label = 'recall')\n",
    "ax.legend(fontsize=15)"
   ]
  },
  {
   "cell_type": "code",
   "execution_count": 40,
   "id": "675b1608-96c7-422e-a7ae-f7d94a4693fe",
   "metadata": {
    "tags": []
   },
   "outputs": [
    {
     "data": {
      "text/plain": [
       "Text(0, 0.5, 'Precision')"
      ]
     },
     "execution_count": 40,
     "metadata": {},
     "output_type": "execute_result"
    },
    {
     "data": {
      "image/png": "[encoded data removed]",
      "text/plain": [
       "<Figure size 1152x648 with 1 Axes>"
      ]
     },
     "metadata": {
      "needs_background": "light"
     },
     "output_type": "display_data"
    }
   ],
   "source": [
    "fig_prf = plt.figure(figsize=(16,9))\n",
    "ax = fig_prf.add_subplot()\n",
    "ax.plot(recall[:-1], prec[:-1], 'r', label = 'precision', lw = 4)\n",
    "ax.set_xlabel(\"Recall\")\n",
    "ax.set_ylabel(\"Precision\")"
   ]
  },
  {
   "cell_type": "markdown",
   "id": "667f5d6e-1afc-4e26-a92a-3f13283ba703",
   "metadata": {},
   "source": [
    "Provo a portare la soglia a un valore pari a 0,5:"
   ]
  },
  {
   "cell_type": "code",
   "execution_count": 41,
   "id": "f694d024-5e5c-4273-9241-ebd3aa5002ad",
   "metadata": {},
   "outputs": [
    {
     "name": "stdout",
     "output_type": "stream",
     "text": [
      "0.6540187678498572 1.0 0.790823877651702\n"
     ]
    }
   ],
   "source": [
    "soglia_prec_50 = soglia[np.argmax(prec >= 0.5)]\n",
    "y_predicted_score = y_scores >= soglia_prec_50\n",
    "print(precision_score(y_train, y_predicted_score), recall_score(y_train, y_predicted_score), f1_score(y_train, y_predicted_score))"
   ]
  },
  {
   "cell_type": "markdown",
   "id": "eddfe48b-3778-4c38-b5e2-d4cd19fc0179",
   "metadata": {},
   "source": [
    "***\n",
    "### 5. Preparazione dati per il clustering"
   ]
  },
  {
   "cell_type": "markdown",
   "id": "92a626d1-a010-4184-8ee7-2e9012ccc856",
   "metadata": {
    "jupyter": {
     "outputs_hidden": true
    },
    "tags": []
   },
   "source": [
    "Per provare ad effettuare una **clusterizzazione**, ho bisogno di avere solo due variabili, di modo che sia possibile rappresentarle su un diagramma cartesiano. Devo quindi ridurre la complessità del mio dataset, che attualmente comprende 11 variabili (le stesse dell'analisi precedente meno le due che ipotizzo essere dipendenti dalle altre, ovvero il Net Promoter e la Overall Experience)."
   ]
  },
  {
   "cell_type": "markdown",
   "id": "adc80ce7-3889-470f-95de-99aad1097106",
   "metadata": {
    "tags": []
   },
   "source": [
    "Riparto quindi dal foglio con le sole colonne relative alle soddisfazioni per gli elementi costitutivi dell'esperienza, eliminando le variabili che non voglio portare nell'analisi."
   ]
  },
  {
   "cell_type": "code",
   "execution_count": 42,
   "id": "3cd3647a-5e40-4eac-9f17-7fc388c821f0",
   "metadata": {
    "tags": []
   },
   "outputs": [],
   "source": [
    "df_sat = pd.read_excel ('GV_Season_26_JAN_FEB.xlsx', sheet_name='db_sat', index_col=0)\n",
    "X = df_sat.iloc[:, np.r_[1:13]]"
   ]
  },
  {
   "cell_type": "code",
   "execution_count": 43,
   "id": "c1a80f3d-55af-4899-aa57-30ffae651941",
   "metadata": {
    "tags": []
   },
   "outputs": [
    {
     "data": {
      "text/html": [
       "<div>\n",
       "<style scoped>\n",
       "    .dataframe tbody tr th:only-of-type {\n",
       "        vertical-align: middle;\n",
       "    }\n",
       "\n",
       "    .dataframe tbody tr th {\n",
       "        vertical-align: top;\n",
       "    }\n",
       "\n",
       "    .dataframe thead th {\n",
       "        text-align: right;\n",
       "    }\n",
       "</style>\n",
       "<table border=\"1\" class=\"dataframe\">\n",
       "  <thead>\n",
       "    <tr style=\"text-align: right;\">\n",
       "      <th></th>\n",
       "      <th>Ticketing experience</th>\n",
       "      <th>Parking experience</th>\n",
       "      <th>Access experience</th>\n",
       "      <th>Check-in experience</th>\n",
       "      <th>Overall experience</th>\n",
       "      <th>Dining experience</th>\n",
       "      <th>Shows experience</th>\n",
       "      <th>Shopping experience</th>\n",
       "      <th>Wayfinding</th>\n",
       "      <th>Facilities &amp; services experience</th>\n",
       "      <th>Value for money</th>\n",
       "      <th>Intention to revisit</th>\n",
       "    </tr>\n",
       "    <tr>\n",
       "      <th>surveyDataId</th>\n",
       "      <th></th>\n",
       "      <th></th>\n",
       "      <th></th>\n",
       "      <th></th>\n",
       "      <th></th>\n",
       "      <th></th>\n",
       "      <th></th>\n",
       "      <th></th>\n",
       "      <th></th>\n",
       "      <th></th>\n",
       "      <th></th>\n",
       "      <th></th>\n",
       "    </tr>\n",
       "  </thead>\n",
       "  <tbody>\n",
       "    <tr>\n",
       "      <th>05597325-35E3-4F39-930D-E3A874C9EF95</th>\n",
       "      <td>10.0</td>\n",
       "      <td>10.0</td>\n",
       "      <td>10</td>\n",
       "      <td>10</td>\n",
       "      <td>10.0</td>\n",
       "      <td>9.0</td>\n",
       "      <td>10.0</td>\n",
       "      <td>10.0</td>\n",
       "      <td>10.0</td>\n",
       "      <td>10.0</td>\n",
       "      <td>10</td>\n",
       "      <td>10</td>\n",
       "    </tr>\n",
       "    <tr>\n",
       "      <th>FA63114A-B303-4AFF-8915-F1D552DFA01B</th>\n",
       "      <td>10.0</td>\n",
       "      <td>6.0</td>\n",
       "      <td>3</td>\n",
       "      <td>10</td>\n",
       "      <td>9.0</td>\n",
       "      <td>4.0</td>\n",
       "      <td>9.0</td>\n",
       "      <td>8.0</td>\n",
       "      <td>9.0</td>\n",
       "      <td>7.0</td>\n",
       "      <td>8</td>\n",
       "      <td>8</td>\n",
       "    </tr>\n",
       "    <tr>\n",
       "      <th>C6F2F294-D3FA-43DC-B3AF-8AD8672D132D</th>\n",
       "      <td>10.0</td>\n",
       "      <td>8.0</td>\n",
       "      <td>9</td>\n",
       "      <td>8</td>\n",
       "      <td>8.0</td>\n",
       "      <td>NaN</td>\n",
       "      <td>5.0</td>\n",
       "      <td>5.0</td>\n",
       "      <td>10.0</td>\n",
       "      <td>8.0</td>\n",
       "      <td>7</td>\n",
       "      <td>3</td>\n",
       "    </tr>\n",
       "    <tr>\n",
       "      <th>07A500D6-3FD1-4CF8-8447-C6791A7FB171</th>\n",
       "      <td>10.0</td>\n",
       "      <td>NaN</td>\n",
       "      <td>9</td>\n",
       "      <td>10</td>\n",
       "      <td>10.0</td>\n",
       "      <td>8.0</td>\n",
       "      <td>9.0</td>\n",
       "      <td>8.0</td>\n",
       "      <td>10.0</td>\n",
       "      <td>10.0</td>\n",
       "      <td>10</td>\n",
       "      <td>10</td>\n",
       "    </tr>\n",
       "    <tr>\n",
       "      <th>61F06759-786F-4828-9E16-D3A6D089CE48</th>\n",
       "      <td>10.0</td>\n",
       "      <td>10.0</td>\n",
       "      <td>10</td>\n",
       "      <td>10</td>\n",
       "      <td>10.0</td>\n",
       "      <td>NaN</td>\n",
       "      <td>10.0</td>\n",
       "      <td>NaN</td>\n",
       "      <td>10.0</td>\n",
       "      <td>10.0</td>\n",
       "      <td>10</td>\n",
       "      <td>10</td>\n",
       "    </tr>\n",
       "  </tbody>\n",
       "</table>\n",
       "</div>"
      ],
      "text/plain": [
       "                                      Ticketing experience  \\\n",
       "surveyDataId                                                 \n",
       "05597325-35E3-4F39-930D-E3A874C9EF95                  10.0   \n",
       "FA63114A-B303-4AFF-8915-F1D552DFA01B                  10.0   \n",
       "C6F2F294-D3FA-43DC-B3AF-8AD8672D132D                  10.0   \n",
       "07A500D6-3FD1-4CF8-8447-C6791A7FB171                  10.0   \n",
       "61F06759-786F-4828-9E16-D3A6D089CE48                  10.0   \n",
       "\n",
       "                                      Parking experience  Access experience  \\\n",
       "surveyDataId                                                                  \n",
       "05597325-35E3-4F39-930D-E3A874C9EF95                10.0                 10   \n",
       "FA63114A-B303-4AFF-8915-F1D552DFA01B                 6.0                  3   \n",
       "C6F2F294-D3FA-43DC-B3AF-8AD8672D132D                 8.0                  9   \n",
       "07A500D6-3FD1-4CF8-8447-C6791A7FB171                 NaN                  9   \n",
       "61F06759-786F-4828-9E16-D3A6D089CE48                10.0                 10   \n",
       "\n",
       "                                      Check-in experience  Overall experience  \\\n",
       "surveyDataId                                                                    \n",
       "05597325-35E3-4F39-930D-E3A874C9EF95                   10                10.0   \n",
       "FA63114A-B303-4AFF-8915-F1D552DFA01B                   10                 9.0   \n",
       "C6F2F294-D3FA-43DC-B3AF-8AD8672D132D                    8                 8.0   \n",
       "07A500D6-3FD1-4CF8-8447-C6791A7FB171                   10                10.0   \n",
       "61F06759-786F-4828-9E16-D3A6D089CE48                   10                10.0   \n",
       "\n",
       "                                      Dining experience  Shows experience  \\\n",
       "surveyDataId                                                                \n",
       "05597325-35E3-4F39-930D-E3A874C9EF95                9.0              10.0   \n",
       "FA63114A-B303-4AFF-8915-F1D552DFA01B                4.0               9.0   \n",
       "C6F2F294-D3FA-43DC-B3AF-8AD8672D132D                NaN               5.0   \n",
       "07A500D6-3FD1-4CF8-8447-C6791A7FB171                8.0               9.0   \n",
       "61F06759-786F-4828-9E16-D3A6D089CE48                NaN              10.0   \n",
       "\n",
       "                                      Shopping experience  Wayfinding  \\\n",
       "surveyDataId                                                            \n",
       "05597325-35E3-4F39-930D-E3A874C9EF95                 10.0        10.0   \n",
       "FA63114A-B303-4AFF-8915-F1D552DFA01B                  8.0         9.0   \n",
       "C6F2F294-D3FA-43DC-B3AF-8AD8672D132D                  5.0        10.0   \n",
       "07A500D6-3FD1-4CF8-8447-C6791A7FB171                  8.0        10.0   \n",
       "61F06759-786F-4828-9E16-D3A6D089CE48                  NaN        10.0   \n",
       "\n",
       "                                      Facilities & services experience  \\\n",
       "surveyDataId                                                             \n",
       "05597325-35E3-4F39-930D-E3A874C9EF95                              10.0   \n",
       "FA63114A-B303-4AFF-8915-F1D552DFA01B                               7.0   \n",
       "C6F2F294-D3FA-43DC-B3AF-8AD8672D132D                               8.0   \n",
       "07A500D6-3FD1-4CF8-8447-C6791A7FB171                              10.0   \n",
       "61F06759-786F-4828-9E16-D3A6D089CE48                              10.0   \n",
       "\n",
       "                                      Value for money  Intention to revisit  \n",
       "surveyDataId                                                                 \n",
       "05597325-35E3-4F39-930D-E3A874C9EF95               10                    10  \n",
       "FA63114A-B303-4AFF-8915-F1D552DFA01B                8                     8  \n",
       "C6F2F294-D3FA-43DC-B3AF-8AD8672D132D                7                     3  \n",
       "07A500D6-3FD1-4CF8-8447-C6791A7FB171               10                    10  \n",
       "61F06759-786F-4828-9E16-D3A6D089CE48               10                    10  "
      ]
     },
     "execution_count": 43,
     "metadata": {},
     "output_type": "execute_result"
    }
   ],
   "source": [
    "X.head()"
   ]
  },
  {
   "cell_type": "code",
   "execution_count": 44,
   "id": "77f2b33f-f59c-4e65-8920-36936c23b052",
   "metadata": {},
   "outputs": [
    {
     "data": {
      "text/plain": [
       "(3510, 12)"
      ]
     },
     "execution_count": 44,
     "metadata": {},
     "output_type": "execute_result"
    }
   ],
   "source": [
    "X.shape"
   ]
  },
  {
   "cell_type": "markdown",
   "id": "4034f2f0-c6fa-4875-8c95-aac6a969bde6",
   "metadata": {},
   "source": [
    "Ora ho solo i dati che mi interessano. Tuttavia sono presenti dei dati mancanti, che preferisco eliminare."
   ]
  },
  {
   "cell_type": "code",
   "execution_count": 45,
   "id": "649fbdd3-aaf2-494e-a2bd-b96eec25b3d7",
   "metadata": {},
   "outputs": [
    {
     "data": {
      "text/html": [
       "<div>\n",
       "<style scoped>\n",
       "    .dataframe tbody tr th:only-of-type {\n",
       "        vertical-align: middle;\n",
       "    }\n",
       "\n",
       "    .dataframe tbody tr th {\n",
       "        vertical-align: top;\n",
       "    }\n",
       "\n",
       "    .dataframe thead th {\n",
       "        text-align: right;\n",
       "    }\n",
       "</style>\n",
       "<table border=\"1\" class=\"dataframe\">\n",
       "  <thead>\n",
       "    <tr style=\"text-align: right;\">\n",
       "      <th></th>\n",
       "      <th>Ticketing experience</th>\n",
       "      <th>Parking experience</th>\n",
       "      <th>Access experience</th>\n",
       "      <th>Check-in experience</th>\n",
       "      <th>Overall experience</th>\n",
       "      <th>Dining experience</th>\n",
       "      <th>Shows experience</th>\n",
       "      <th>Shopping experience</th>\n",
       "      <th>Wayfinding</th>\n",
       "      <th>Facilities &amp; services experience</th>\n",
       "      <th>Value for money</th>\n",
       "      <th>Intention to revisit</th>\n",
       "    </tr>\n",
       "    <tr>\n",
       "      <th>surveyDataId</th>\n",
       "      <th></th>\n",
       "      <th></th>\n",
       "      <th></th>\n",
       "      <th></th>\n",
       "      <th></th>\n",
       "      <th></th>\n",
       "      <th></th>\n",
       "      <th></th>\n",
       "      <th></th>\n",
       "      <th></th>\n",
       "      <th></th>\n",
       "      <th></th>\n",
       "    </tr>\n",
       "  </thead>\n",
       "  <tbody>\n",
       "    <tr>\n",
       "      <th>05597325-35E3-4F39-930D-E3A874C9EF95</th>\n",
       "      <td>10.0</td>\n",
       "      <td>10.0</td>\n",
       "      <td>10</td>\n",
       "      <td>10</td>\n",
       "      <td>10.0</td>\n",
       "      <td>9.0</td>\n",
       "      <td>10.0</td>\n",
       "      <td>10.0</td>\n",
       "      <td>10.0</td>\n",
       "      <td>10.0</td>\n",
       "      <td>10</td>\n",
       "      <td>10</td>\n",
       "    </tr>\n",
       "    <tr>\n",
       "      <th>FA63114A-B303-4AFF-8915-F1D552DFA01B</th>\n",
       "      <td>10.0</td>\n",
       "      <td>6.0</td>\n",
       "      <td>3</td>\n",
       "      <td>10</td>\n",
       "      <td>9.0</td>\n",
       "      <td>4.0</td>\n",
       "      <td>9.0</td>\n",
       "      <td>8.0</td>\n",
       "      <td>9.0</td>\n",
       "      <td>7.0</td>\n",
       "      <td>8</td>\n",
       "      <td>8</td>\n",
       "    </tr>\n",
       "    <tr>\n",
       "      <th>EBDDFB6D-AAB0-4955-8002-79FE197FDC2A</th>\n",
       "      <td>10.0</td>\n",
       "      <td>10.0</td>\n",
       "      <td>10</td>\n",
       "      <td>10</td>\n",
       "      <td>10.0</td>\n",
       "      <td>10.0</td>\n",
       "      <td>10.0</td>\n",
       "      <td>10.0</td>\n",
       "      <td>10.0</td>\n",
       "      <td>10.0</td>\n",
       "      <td>10</td>\n",
       "      <td>10</td>\n",
       "    </tr>\n",
       "    <tr>\n",
       "      <th>BB63AD60-AC9E-4FEC-A41C-DAB1A633880A</th>\n",
       "      <td>10.0</td>\n",
       "      <td>10.0</td>\n",
       "      <td>10</td>\n",
       "      <td>9</td>\n",
       "      <td>10.0</td>\n",
       "      <td>9.0</td>\n",
       "      <td>10.0</td>\n",
       "      <td>10.0</td>\n",
       "      <td>10.0</td>\n",
       "      <td>10.0</td>\n",
       "      <td>9</td>\n",
       "      <td>10</td>\n",
       "    </tr>\n",
       "    <tr>\n",
       "      <th>32AB91E8-AFDD-45DC-9B15-2BA50B09050E</th>\n",
       "      <td>10.0</td>\n",
       "      <td>7.0</td>\n",
       "      <td>7</td>\n",
       "      <td>8</td>\n",
       "      <td>8.0</td>\n",
       "      <td>9.0</td>\n",
       "      <td>9.0</td>\n",
       "      <td>7.0</td>\n",
       "      <td>9.0</td>\n",
       "      <td>9.0</td>\n",
       "      <td>5</td>\n",
       "      <td>8</td>\n",
       "    </tr>\n",
       "    <tr>\n",
       "      <th>...</th>\n",
       "      <td>...</td>\n",
       "      <td>...</td>\n",
       "      <td>...</td>\n",
       "      <td>...</td>\n",
       "      <td>...</td>\n",
       "      <td>...</td>\n",
       "      <td>...</td>\n",
       "      <td>...</td>\n",
       "      <td>...</td>\n",
       "      <td>...</td>\n",
       "      <td>...</td>\n",
       "      <td>...</td>\n",
       "    </tr>\n",
       "    <tr>\n",
       "      <th>D9492FB2-431A-4540-9405-C835DDFD6D1C</th>\n",
       "      <td>10.0</td>\n",
       "      <td>6.0</td>\n",
       "      <td>5</td>\n",
       "      <td>8</td>\n",
       "      <td>10.0</td>\n",
       "      <td>6.0</td>\n",
       "      <td>8.0</td>\n",
       "      <td>6.0</td>\n",
       "      <td>6.0</td>\n",
       "      <td>10.0</td>\n",
       "      <td>6</td>\n",
       "      <td>10</td>\n",
       "    </tr>\n",
       "    <tr>\n",
       "      <th>D3240562-1ABF-49BF-8148-2E9C8242B765</th>\n",
       "      <td>10.0</td>\n",
       "      <td>10.0</td>\n",
       "      <td>10</td>\n",
       "      <td>10</td>\n",
       "      <td>10.0</td>\n",
       "      <td>10.0</td>\n",
       "      <td>10.0</td>\n",
       "      <td>10.0</td>\n",
       "      <td>10.0</td>\n",
       "      <td>10.0</td>\n",
       "      <td>10</td>\n",
       "      <td>10</td>\n",
       "    </tr>\n",
       "    <tr>\n",
       "      <th>E7AE8261-158F-43BC-A603-6861CDA002E5</th>\n",
       "      <td>8.0</td>\n",
       "      <td>8.0</td>\n",
       "      <td>6</td>\n",
       "      <td>8</td>\n",
       "      <td>8.0</td>\n",
       "      <td>6.0</td>\n",
       "      <td>10.0</td>\n",
       "      <td>7.0</td>\n",
       "      <td>8.0</td>\n",
       "      <td>8.0</td>\n",
       "      <td>7</td>\n",
       "      <td>9</td>\n",
       "    </tr>\n",
       "    <tr>\n",
       "      <th>C742EAC3-7B4C-4AC8-9DF2-B9717B6EC784</th>\n",
       "      <td>9.0</td>\n",
       "      <td>7.0</td>\n",
       "      <td>7</td>\n",
       "      <td>7</td>\n",
       "      <td>9.0</td>\n",
       "      <td>6.0</td>\n",
       "      <td>8.0</td>\n",
       "      <td>7.0</td>\n",
       "      <td>7.0</td>\n",
       "      <td>8.0</td>\n",
       "      <td>9</td>\n",
       "      <td>10</td>\n",
       "    </tr>\n",
       "    <tr>\n",
       "      <th>265E5B41-058B-4749-B51B-401A79A23AA8</th>\n",
       "      <td>10.0</td>\n",
       "      <td>10.0</td>\n",
       "      <td>10</td>\n",
       "      <td>10</td>\n",
       "      <td>7.0</td>\n",
       "      <td>7.0</td>\n",
       "      <td>7.0</td>\n",
       "      <td>3.0</td>\n",
       "      <td>10.0</td>\n",
       "      <td>10.0</td>\n",
       "      <td>6</td>\n",
       "      <td>10</td>\n",
       "    </tr>\n",
       "  </tbody>\n",
       "</table>\n",
       "<p>2279 rows × 12 columns</p>\n",
       "</div>"
      ],
      "text/plain": [
       "                                      Ticketing experience  \\\n",
       "surveyDataId                                                 \n",
       "05597325-35E3-4F39-930D-E3A874C9EF95                  10.0   \n",
       "FA63114A-B303-4AFF-8915-F1D552DFA01B                  10.0   \n",
       "EBDDFB6D-AAB0-4955-8002-79FE197FDC2A                  10.0   \n",
       "BB63AD60-AC9E-4FEC-A41C-DAB1A633880A                  10.0   \n",
       "32AB91E8-AFDD-45DC-9B15-2BA50B09050E                  10.0   \n",
       "...                                                    ...   \n",
       "D9492FB2-431A-4540-9405-C835DDFD6D1C                  10.0   \n",
       "D3240562-1ABF-49BF-8148-2E9C8242B765                  10.0   \n",
       "E7AE8261-158F-43BC-A603-6861CDA002E5                   8.0   \n",
       "C742EAC3-7B4C-4AC8-9DF2-B9717B6EC784                   9.0   \n",
       "265E5B41-058B-4749-B51B-401A79A23AA8                  10.0   \n",
       "\n",
       "                                      Parking experience  Access experience  \\\n",
       "surveyDataId                                                                  \n",
       "05597325-35E3-4F39-930D-E3A874C9EF95                10.0                 10   \n",
       "FA63114A-B303-4AFF-8915-F1D552DFA01B                 6.0                  3   \n",
       "EBDDFB6D-AAB0-4955-8002-79FE197FDC2A                10.0                 10   \n",
       "BB63AD60-AC9E-4FEC-A41C-DAB1A633880A                10.0                 10   \n",
       "32AB91E8-AFDD-45DC-9B15-2BA50B09050E                 7.0                  7   \n",
       "...                                                  ...                ...   \n",
       "D9492FB2-431A-4540-9405-C835DDFD6D1C                 6.0                  5   \n",
       "D3240562-1ABF-49BF-8148-2E9C8242B765                10.0                 10   \n",
       "E7AE8261-158F-43BC-A603-6861CDA002E5                 8.0                  6   \n",
       "C742EAC3-7B4C-4AC8-9DF2-B9717B6EC784                 7.0                  7   \n",
       "265E5B41-058B-4749-B51B-401A79A23AA8                10.0                 10   \n",
       "\n",
       "                                      Check-in experience  Overall experience  \\\n",
       "surveyDataId                                                                    \n",
       "05597325-35E3-4F39-930D-E3A874C9EF95                   10                10.0   \n",
       "FA63114A-B303-4AFF-8915-F1D552DFA01B                   10                 9.0   \n",
       "EBDDFB6D-AAB0-4955-8002-79FE197FDC2A                   10                10.0   \n",
       "BB63AD60-AC9E-4FEC-A41C-DAB1A633880A                    9                10.0   \n",
       "32AB91E8-AFDD-45DC-9B15-2BA50B09050E                    8                 8.0   \n",
       "...                                                   ...                 ...   \n",
       "D9492FB2-431A-4540-9405-C835DDFD6D1C                    8                10.0   \n",
       "D3240562-1ABF-49BF-8148-2E9C8242B765                   10                10.0   \n",
       "E7AE8261-158F-43BC-A603-6861CDA002E5                    8                 8.0   \n",
       "C742EAC3-7B4C-4AC8-9DF2-B9717B6EC784                    7                 9.0   \n",
       "265E5B41-058B-4749-B51B-401A79A23AA8                   10                 7.0   \n",
       "\n",
       "                                      Dining experience  Shows experience  \\\n",
       "surveyDataId                                                                \n",
       "05597325-35E3-4F39-930D-E3A874C9EF95                9.0              10.0   \n",
       "FA63114A-B303-4AFF-8915-F1D552DFA01B                4.0               9.0   \n",
       "EBDDFB6D-AAB0-4955-8002-79FE197FDC2A               10.0              10.0   \n",
       "BB63AD60-AC9E-4FEC-A41C-DAB1A633880A                9.0              10.0   \n",
       "32AB91E8-AFDD-45DC-9B15-2BA50B09050E                9.0               9.0   \n",
       "...                                                 ...               ...   \n",
       "D9492FB2-431A-4540-9405-C835DDFD6D1C                6.0               8.0   \n",
       "D3240562-1ABF-49BF-8148-2E9C8242B765               10.0              10.0   \n",
       "E7AE8261-158F-43BC-A603-6861CDA002E5                6.0              10.0   \n",
       "C742EAC3-7B4C-4AC8-9DF2-B9717B6EC784                6.0               8.0   \n",
       "265E5B41-058B-4749-B51B-401A79A23AA8                7.0               7.0   \n",
       "\n",
       "                                      Shopping experience  Wayfinding  \\\n",
       "surveyDataId                                                            \n",
       "05597325-35E3-4F39-930D-E3A874C9EF95                 10.0        10.0   \n",
       "FA63114A-B303-4AFF-8915-F1D552DFA01B                  8.0         9.0   \n",
       "EBDDFB6D-AAB0-4955-8002-79FE197FDC2A                 10.0        10.0   \n",
       "BB63AD60-AC9E-4FEC-A41C-DAB1A633880A                 10.0        10.0   \n",
       "32AB91E8-AFDD-45DC-9B15-2BA50B09050E                  7.0         9.0   \n",
       "...                                                   ...         ...   \n",
       "D9492FB2-431A-4540-9405-C835DDFD6D1C                  6.0         6.0   \n",
       "D3240562-1ABF-49BF-8148-2E9C8242B765                 10.0        10.0   \n",
       "E7AE8261-158F-43BC-A603-6861CDA002E5                  7.0         8.0   \n",
       "C742EAC3-7B4C-4AC8-9DF2-B9717B6EC784                  7.0         7.0   \n",
       "265E5B41-058B-4749-B51B-401A79A23AA8                  3.0        10.0   \n",
       "\n",
       "                                      Facilities & services experience  \\\n",
       "surveyDataId                                                             \n",
       "05597325-35E3-4F39-930D-E3A874C9EF95                              10.0   \n",
       "FA63114A-B303-4AFF-8915-F1D552DFA01B                               7.0   \n",
       "EBDDFB6D-AAB0-4955-8002-79FE197FDC2A                              10.0   \n",
       "BB63AD60-AC9E-4FEC-A41C-DAB1A633880A                              10.0   \n",
       "32AB91E8-AFDD-45DC-9B15-2BA50B09050E                               9.0   \n",
       "...                                                                ...   \n",
       "D9492FB2-431A-4540-9405-C835DDFD6D1C                              10.0   \n",
       "D3240562-1ABF-49BF-8148-2E9C8242B765                              10.0   \n",
       "E7AE8261-158F-43BC-A603-6861CDA002E5                               8.0   \n",
       "C742EAC3-7B4C-4AC8-9DF2-B9717B6EC784                               8.0   \n",
       "265E5B41-058B-4749-B51B-401A79A23AA8                              10.0   \n",
       "\n",
       "                                      Value for money  Intention to revisit  \n",
       "surveyDataId                                                                 \n",
       "05597325-35E3-4F39-930D-E3A874C9EF95               10                    10  \n",
       "FA63114A-B303-4AFF-8915-F1D552DFA01B                8                     8  \n",
       "EBDDFB6D-AAB0-4955-8002-79FE197FDC2A               10                    10  \n",
       "BB63AD60-AC9E-4FEC-A41C-DAB1A633880A                9                    10  \n",
       "32AB91E8-AFDD-45DC-9B15-2BA50B09050E                5                     8  \n",
       "...                                               ...                   ...  \n",
       "D9492FB2-431A-4540-9405-C835DDFD6D1C                6                    10  \n",
       "D3240562-1ABF-49BF-8148-2E9C8242B765               10                    10  \n",
       "E7AE8261-158F-43BC-A603-6861CDA002E5                7                     9  \n",
       "C742EAC3-7B4C-4AC8-9DF2-B9717B6EC784                9                    10  \n",
       "265E5B41-058B-4749-B51B-401A79A23AA8                6                    10  \n",
       "\n",
       "[2279 rows x 12 columns]"
      ]
     },
     "execution_count": 45,
     "metadata": {},
     "output_type": "execute_result"
    }
   ],
   "source": [
    "X = X.dropna()\n",
    "X"
   ]
  },
  {
   "cell_type": "code",
   "execution_count": 46,
   "id": "ad3188c5-858b-4e4a-af45-60a3eaaea0f5",
   "metadata": {
    "tags": []
   },
   "outputs": [
    {
     "data": {
      "text/plain": [
       "(2279, 12)"
      ]
     },
     "execution_count": 46,
     "metadata": {},
     "output_type": "execute_result"
    }
   ],
   "source": [
    "X.shape"
   ]
  },
  {
   "cell_type": "markdown",
   "id": "f3b86491-7dc2-4410-ab96-b3835dce7c17",
   "metadata": {},
   "source": [
    "Provo a ridurre la complessità del dataset eseguendo l'**analisi delle componenti principali (PCA)**, tecnica di analisi multivariata che ha proprio come obiettivo una riduzione della dimensionalità. Voglio quindi ridurre un numero elevato di variabili, in questo caso undici, a due variabili \"latenti\", limitando il più possibile la perdita di informazioni."
   ]
  },
  {
   "cell_type": "code",
   "execution_count": 47,
   "id": "aa919bd9-cdf3-4460-a8ce-76939370b602",
   "metadata": {},
   "outputs": [],
   "source": [
    "pca = PCA(n_components = 2, random_state=1)\n",
    "X_pca = pca.fit_transform(X)"
   ]
  },
  {
   "cell_type": "code",
   "execution_count": 48,
   "id": "cf989257-fc88-40d0-808d-980ae3cf2f9e",
   "metadata": {},
   "outputs": [
    {
     "name": "stdout",
     "output_type": "stream",
     "text": [
      "Explained Variance Ratio : 0.6330681096407791\n"
     ]
    }
   ],
   "source": [
    "print('Explained Variance Ratio : ' + str(pca.explained_variance_ratio_.cumsum()[1]))"
   ]
  },
  {
   "cell_type": "markdown",
   "id": "2969ca03-9772-4fe0-b761-9622199bdce9",
   "metadata": {},
   "source": [
    "La varianza spiegata dalla PCA è il 63% del totale, un valore piuttosto scarso. *In situazioni normali non sarebbe saggio proseguire con questo parametro, pertanto quanto segue avrà scopo puramente dimostrativo.*"
   ]
  },
  {
   "cell_type": "markdown",
   "id": "556d71b1-b9f7-49a5-aa48-ed888f25ad3c",
   "metadata": {},
   "source": [
    "***\n",
    "### 6. Modelli di traning: K-Means"
   ]
  },
  {
   "cell_type": "markdown",
   "id": "dd50cef3-e17d-436e-88f6-c811137520e6",
   "metadata": {},
   "source": [
    "L'algoritmo **K-Means** raggruppa i dati cercando di separare i campioni in n gruppi di uguale varianza, minimizzando l'inerzia (o somma dei quadrati) all'interno del cluster. Questo algoritmo richiede che il numero di cluster sia specificato.\n",
    "\n",
    "$$ \\sum_{i=1}^{K}\\sum_{x_j \\in C_{i}}||x_j - \\mu_{i}||^2\n",
    "$$\n",
    "\n",
    "\n",
    "L'algoritmo funziona nel modo seguente: \n",
    "1) Posiziona i centroidi (ovvero le \"medie\" dei cluster) in modo casuale \n",
    "2) Etichetta le istanze in base al centroide più vicino (distanza euclidea)\n",
    "3) Aggiorna i centroidi e procede fino a quando i centroidi smettono di muoversi \n",
    "\n",
    "L'algoritmo è garantito per convergere in un numero finito di passi. Ma potrebbe non convergere alla soluzione giusta: a seconda delll'inizializzazione dei centroidi, il risultato potrebbe non essere lo stesso se si esegue questo algoritmo più volte. Fortunatamente, il modello K-Means in Scikit-Learn ha implementato una versione più avanzata di questo algoritmo, chiamata **K-Means++**.</br>\n",
    "Il K-Means++ posiziona i centroidi iniziali ben distanziati l'uno dall'altro, il che porta a una convergenza più veloce e un risultato più coerente.\n"
   ]
  },
  {
   "cell_type": "markdown",
   "id": "084347f5-db09-4433-a5b3-f66392e41a8a",
   "metadata": {},
   "source": [
    "Come prima cosa, vado a definire il numero dei cluster con il **metodo Elbow** (gomito)."
   ]
  },
  {
   "cell_type": "code",
   "execution_count": 49,
   "id": "0932f377-2a1b-4c82-8b84-6e814e3403ba",
   "metadata": {},
   "outputs": [
    {
     "data": {
      "text/plain": [
       "(2279, 2)"
      ]
     },
     "execution_count": 49,
     "metadata": {},
     "output_type": "execute_result"
    }
   ],
   "source": [
    "X_pca.shape"
   ]
  },
  {
   "cell_type": "code",
   "execution_count": 50,
   "id": "10a6a22c-1306-4121-ba93-22840d86ae77",
   "metadata": {},
   "outputs": [
    {
     "data": {
      "image/png": "[encoded data removed]",
      "text/plain": [
       "<Figure size 432x288 with 1 Axes>"
      ]
     },
     "metadata": {
      "needs_background": "light"
     },
     "output_type": "display_data"
    }
   ],
   "source": [
    "distortions = []\n",
    "for i in np.arange(1,10):\n",
    "    km = KMeans(n_clusters= i, \n",
    "                init='k-means++', \n",
    "                n_init=10, \n",
    "                max_iter=300, \n",
    "                random_state=0)\n",
    "    km.fit(X_pca)\n",
    "    y_km = km.predict(X_pca)\n",
    "    distortions.append(km.inertia_)\n",
    "plt.plot(np.arange(1,10),distortions, marker='o')\n",
    "plt.xlabel('Number of clusters')\n",
    "plt.ylabel('Distortion')\n",
    "plt.show()"
   ]
  },
  {
   "cell_type": "markdown",
   "id": "900a32e1-ca63-46f3-b45c-5f50fc4175fc",
   "metadata": {},
   "source": [
    "Il \"gomito\" non è visibile molto chiaramente, ma sembra che dal valore k = 3 la curva si stabilizzi."
   ]
  },
  {
   "cell_type": "markdown",
   "id": "f0a24fc9-d702-48dd-a8ff-6c4055b72c7d",
   "metadata": {},
   "source": [
    "Rilancio quindi il modello con 3 cluster."
   ]
  },
  {
   "cell_type": "code",
   "execution_count": 51,
   "id": "6ed97538-9e34-4ccf-9437-0154ec66835e",
   "metadata": {},
   "outputs": [],
   "source": [
    "km = KMeans(\n",
    "    n_clusters=3,\n",
    "    init='k-means++',\n",
    "            n_init=10,\n",
    "            max_iter=300,\n",
    "            tol=1e-04,\n",
    "            random_state=0)\n",
    "\n",
    "km = km.fit(X_pca)\n",
    "y = km.predict(X_pca)"
   ]
  },
  {
   "cell_type": "code",
   "execution_count": 52,
   "id": "048472a1-b5e2-4f82-bf2b-ffc20fc2472a",
   "metadata": {},
   "outputs": [
    {
     "name": "stdout",
     "output_type": "stream",
     "text": [
      "Risultato finale modello K-Means: \n",
      "Counter({1: 1108, 0: 884, 2: 287})\n"
     ]
    }
   ],
   "source": [
    "print('Risultato finale modello K-Means: ')\n",
    "print(collections.Counter(y))"
   ]
  },
  {
   "cell_type": "markdown",
   "id": "c2da87c7-fe6b-4df2-9c69-0faa8945fd4c",
   "metadata": {},
   "source": [
    "È importante ora valutare la qualità del clustering in corso. Il **Silhouette Coefficient** è un esempio di tale valutazione, laddove un punteggio più alto del Silhouette Coefficient significa un modello con cluster meglio definiti.</br>\n",
    "Il Silhouette Coefficient è definito per ogni campione ed è composto da due punteggi:\n",
    "**a**: distanza media tra un campione e tutti gli altri punti della stessa classe\n",
    "**b**: distanza media tra un campione e tutti gli altri punti nel cluster più vicino\n",
    "Il coefficiente Silhouette s per un singolo campione è quindi dato come:\n",
    "\n",
    "$$ s(i) = \\frac{b(i) - a(i)}{max(a(i),b(i))} $$\n",
    "\n",
    "Il Silhouette Coefficient per un insieme di campioni è dato dalla media del Silhouette Coefficient per ogni campione. \n",
    "\n",
    "Il Silhouette Coefficient può variare tra -1 e +1. Il valore migliore è 1 e il valore peggiore è -1. I valori vicini allo 0 indicano cluster sovrapposti. I valori negativi indicano generalmente che un campione è stato assegnato al cluster sbagliato, poiché un cluster diverso è più simile."
   ]
  },
  {
   "cell_type": "code",
   "execution_count": 53,
   "id": "3d2e621d-7164-414f-8a22-ba9a9e0c598e",
   "metadata": {},
   "outputs": [
    {
     "data": {
      "image/png": "[encoded data removed]",
      "text/plain": [
       "<Figure size 432x288 with 1 Axes>"
      ]
     },
     "metadata": {
      "needs_background": "light"
     },
     "output_type": "display_data"
    }
   ],
   "source": [
    "cluster_labels = np.array([0,1,2]) #array di etichette\n",
    "n_clusters = 3 #numero dei cluster indicato dal metodo Elbow\n",
    "silhouette_vals =  silhouette_samples(X_pca, km.labels_, metric='euclidean')# silhoutte per campione\n",
    "y_ax_lower, y_ax_upper = 0, 0\n",
    "yticks = []\n",
    "for i, c in enumerate(cluster_labels): # per ogni cluster\n",
    "    c_silhouette_vals = silhouette_vals[y_km == c] #get the s(i) for samples of cluster c\n",
    "    c_silhouette_vals.sort() #sort in-place the s(i)\n",
    "    y_ax_upper += len(c_silhouette_vals)\n",
    "    color = mp.cm.jet(float(i) / n_clusters)\n",
    "    plt.barh(range(y_ax_lower, y_ax_upper), c_silhouette_vals, height=1.0, \n",
    "             edgecolor='none', color=color)\n",
    "    yticks.append((y_ax_lower + y_ax_upper) / 2.)\n",
    "    y_ax_lower += len(c_silhouette_vals)\n",
    "    \n",
    "silhouette_avg = np.mean(silhouette_vals)\n",
    "plt.axvline(silhouette_avg, color=\"red\", linestyle=\"--\") \n",
    "\n",
    "plt.yticks(yticks, cluster_labels + 1)\n",
    "plt.ylabel('Cluster')\n",
    "plt.xlabel('Silhouette coefficient')\n",
    "\n",
    "plt.show()"
   ]
  },
  {
   "cell_type": "markdown",
   "id": "f6ad1afc-70a2-443a-bc6d-e1e1c6464294",
   "metadata": {},
   "source": [
    "Purtroppo il risultato non è molto soddisfacente."
   ]
  },
  {
   "cell_type": "code",
   "execution_count": 54,
   "id": "6ba24e2b-3d84-4ce8-ae94-4f940c38cad0",
   "metadata": {},
   "outputs": [
    {
     "data": {
      "text/plain": [
       "<matplotlib.collections.PathCollection at 0x26573df8df0>"
      ]
     },
     "execution_count": 54,
     "metadata": {},
     "output_type": "execute_result"
    },
    {
     "data": {
      "image/png": "[encoded data removed]",
      "text/plain": [
       "<Figure size 432x288 with 1 Axes>"
      ]
     },
     "metadata": {
      "needs_background": "light"
     },
     "output_type": "display_data"
    }
   ],
   "source": [
    "for i, c in enumerate(cluster_labels):\n",
    "    plt.scatter(X_pca[y_km == c, 0],\n",
    "            X_pca[y_km == c, 1],\n",
    "            s=50,\n",
    "            color = mp.cm.jet(float(i) / n_clusters),\n",
    "            edgecolor='black',\n",
    "            marker='s',\n",
    "            label=str(c))\n",
    "\n",
    "plt.scatter(km.cluster_centers_[:, 0], km.cluster_centers_[:, 1],\n",
    "            s=250, marker='x', c='red', label='centroids')"
   ]
  },
  {
   "cell_type": "markdown",
   "id": "9eadc593-92ee-425f-ad59-4b218332751a",
   "metadata": {},
   "source": [
    "Estendo ora la classificazione ai valori originali (X)."
   ]
  },
  {
   "cell_type": "code",
   "execution_count": 55,
   "id": "af0295f4-9cd1-4bc8-bf1b-2be95d623c73",
   "metadata": {},
   "outputs": [],
   "source": [
    "km_final = KMeans(\n",
    "    n_clusters=3,\n",
    "    init='k-means++',\n",
    "            n_init=10,\n",
    "            max_iter=300,\n",
    "            tol=1e-04,\n",
    "            random_state=0)\n",
    "\n",
    "km_final = km.fit(X)\n",
    "y_final = km_final.predict(X)"
   ]
  },
  {
   "cell_type": "code",
   "execution_count": 56,
   "id": "e094a514-9a93-44e5-b1fc-2b52f4efc428",
   "metadata": {},
   "outputs": [
    {
     "name": "stdout",
     "output_type": "stream",
     "text": [
      "Risultato finale modello K-Means (no PCA): \n",
      "Counter({1: 1116, 2: 887, 0: 276})\n"
     ]
    }
   ],
   "source": [
    "print('Risultato finale modello K-Means (no PCA): ')\n",
    "print(collections.Counter(y_final))"
   ]
  },
  {
   "cell_type": "markdown",
   "id": "b898dc7c-8c83-45da-b37e-777272a64a67",
   "metadata": {},
   "source": [
    "***\n",
    "### 7. Modelli di training: Clustering Agglomerativo"
   ]
  },
  {
   "cell_type": "markdown",
   "id": "a3bbee99-13d9-4d07-8b3a-db949fc5563f",
   "metadata": {},
   "source": [
    "L'algoritmo di **Clustering Agglomerativo** consente di tracciare dendrogrammi, grafici utili sia per interpretare il risutato del clustering, che per individuare il miglior numero di cluster, senza quindi usare il metodo Elbow.\n",
    "Il funzionamento pevede l'assegnazione ad ogni osservazione di un cluster, e la successiva \"fusione\" dei cluster in base alla loro distanza, coppia per coppia, iterativamente."
   ]
  },
  {
   "cell_type": "code",
   "execution_count": 57,
   "id": "6805cb65-d5f9-4605-9111-404ae02b30ef",
   "metadata": {},
   "outputs": [],
   "source": [
    "ac = AgglomerativeClustering(n_clusters=3, #numero di cluster\n",
    "                             affinity='euclidean', #tipo di distanza\n",
    "                             linkage='complete') #minimizza la distanza massima tra le osservazioni di coppie di cluster\n",
    "y_ac_X = ac.fit_predict(X_pca)"
   ]
  },
  {
   "cell_type": "code",
   "execution_count": 58,
   "id": "23843bb5-6f9e-4b50-b1fc-20be9a51a02b",
   "metadata": {},
   "outputs": [
    {
     "data": {
      "image/png": "[encoded data removed]",
      "text/plain": [
       "<Figure size 432x288 with 1 Axes>"
      ]
     },
     "metadata": {
      "needs_background": "light"
     },
     "output_type": "display_data"
    }
   ],
   "source": [
    "plt.scatter(X_pca[y_ac_X == 0, 0],\n",
    "            X_pca[y_ac_X== 0, 1],\n",
    "            s=50, c='lightgreen',\n",
    "            marker='s', edgecolor='black',\n",
    "            label='cluster 1')\n",
    "plt.scatter(X_pca[y_ac_X == 1, 0],\n",
    "            X_pca[y_ac_X == 1, 1],\n",
    "            s=50, c='orange',\n",
    "            marker='o', edgecolor='black',\n",
    "            label='cluster 2')\n",
    "plt.scatter(X_pca[y_ac_X == 2, 0],\n",
    "            X_pca[y_ac_X == 2, 1],\n",
    "            s=50, c='lightblue',\n",
    "            marker='v', edgecolor='black',\n",
    "            label='cluster 3')\n",
    "\n",
    "plt.legend()\n",
    "plt.show()"
   ]
  },
  {
   "cell_type": "markdown",
   "id": "10f81279-627a-4f04-bd55-6284124a6491",
   "metadata": {},
   "source": [
    "Preparo il dendrogramma."
   ]
  },
  {
   "cell_type": "code",
   "execution_count": 59,
   "id": "14ba2d58-f4fd-41c0-9d41-5e43bd23cd70",
   "metadata": {},
   "outputs": [
    {
     "data": {
      "image/png": "[encoded data removed]",
      "text/plain": [
       "<Figure size 432x288 with 1 Axes>"
      ]
     },
     "metadata": {
      "needs_background": "light"
     },
     "output_type": "display_data"
    }
   ],
   "source": [
    "dendrogram = hier.dendrogram(hier.linkage(X_pca, method ='complete'))\n",
    "plt.title('Dendrogram')\n",
    "plt.xlabel('questions')\n",
    "plt.ylabel('Euclidean distances')\n",
    "plt.show()\n",
    "\n",
    "model = AgglomerativeClustering(n_clusters = 3, affinity ='euclidean', linkage ='complete')\n",
    "y = model.fit_predict(X_pca)\n"
   ]
  },
  {
   "cell_type": "markdown",
   "id": "15c1561a-182e-43b2-8819-97683b258b0a",
   "metadata": {},
   "source": [
    "Anche in questo caso sembrano essere individuati 3 cluster, anche se le proporzioni sono molto squilibrate a favore di uno dei tre."
   ]
  },
  {
   "cell_type": "code",
   "execution_count": 60,
   "id": "fddfa0c0-6879-4ef7-b8f1-9694a63e8b07",
   "metadata": {},
   "outputs": [
    {
     "data": {
      "image/png": "[encoded data removed]",
      "text/plain": [
       "<Figure size 432x288 with 1 Axes>"
      ]
     },
     "metadata": {
      "needs_background": "light"
     },
     "output_type": "display_data"
    }
   ],
   "source": [
    "plt.scatter(X_pca[y_ac_X == 0, 0],\n",
    "            X_pca[y_ac_X== 0, 1],\n",
    "            s=50, c='lightgreen',\n",
    "            marker='s', edgecolor='black',\n",
    "            label='cluster 1')\n",
    "plt.scatter(X_pca[y_ac_X == 1, 0],\n",
    "            X_pca[y_ac_X == 1, 1],\n",
    "            s=50, c='orange',\n",
    "            marker='o', edgecolor='black',\n",
    "            label='cluster 2')\n",
    "plt.scatter(X_pca[y_ac_X == 2, 0],\n",
    "            X_pca[y_ac_X == 2, 1],\n",
    "            s=50, c='lightblue',\n",
    "            marker='v', edgecolor='black',\n",
    "            label='cluster 3')\n",
    "plt.title('Global Village visitors')\n",
    "plt.xlabel('PCA 1')\n",
    "plt.ylabel('PCA 2')\n",
    "plt.legend()\n",
    "plt.grid()\n",
    "plt.show()"
   ]
  },
  {
   "cell_type": "code",
   "execution_count": 61,
   "id": "ff45be22-8ff9-4357-87bf-8d5726d88be1",
   "metadata": {},
   "outputs": [
    {
     "name": "stdout",
     "output_type": "stream",
     "text": [
      "Risultato finale modello AgglomerativeClustering (Complete): \n",
      "Counter({0: 2037, 2: 210, 1: 32})\n"
     ]
    }
   ],
   "source": [
    "print('Risultato finale modello AgglomerativeClustering (Complete): ')\n",
    "print(collections.Counter(y))\n"
   ]
  },
  {
   "cell_type": "markdown",
   "id": "f02df0fa-2c3f-4e8e-ae09-e7c085999ceb",
   "metadata": {},
   "source": [
    "***\n",
    "### 8. Conclusioni"
   ]
  },
  {
   "cell_type": "markdown",
   "id": "fd8f1209-fc67-4dfe-9bd2-8c7a3708139f",
   "metadata": {},
   "source": [
    "Come si vedeva dalle analisi preliminari, non emergono dei cluster netti e puliti dal dataset di partenza.</br>\n",
    "Potrebbe aver senso ritentare l'analisi la prossima stagione, in partenza a ottobre 2022, con un **nuovo questionario** che contenga variabili più differenzianti che non le soddisfazioni per i singoli elementi."
   ]
  }
 ],
 "metadata": {
  "kernelspec": {
   "display_name": "Python 3 (ipykernel)",
   "language": "python",
   "name": "python3"
  },
  "language_info": {
   "codemirror_mode": {
    "name": "ipython",
    "version": 3
   },
   "file_extension": ".py",
   "mimetype": "text/x-python",
   "name": "python",
   "nbconvert_exporter": "python",
   "pygments_lexer": "ipython3",
   "version": "3.9.7"
  }
 },
 "nbformat": 4,
 "nbformat_minor": 5
}
